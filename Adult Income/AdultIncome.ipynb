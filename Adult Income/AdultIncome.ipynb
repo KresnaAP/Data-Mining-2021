{
  "nbformat": 4,
  "nbformat_minor": 0,
  "metadata": {
    "colab": {
      "name": "Classification - D.ipynb",
      "provenance": [],
      "collapsed_sections": []
    },
    "kernelspec": {
      "display_name": "Python 3",
      "name": "python3"
    },
    "language_info": {
      "name": "python"
    }
  },
  "cells": [
    {
      "cell_type": "markdown",
      "metadata": {
        "id": "vtE1G7uLrkyF"
      },
      "source": [
        "# **Adult Income Classification**\n",
        "\n",
        "Dataset: https://www.kaggle.com/wenruliu/adult-income-dataset"
      ]
    },
    {
      "cell_type": "code",
      "metadata": {
        "colab": {
          "base_uri": "https://localhost:8080/"
        },
        "id": "xawHW5Znmbu_",
        "outputId": "36642379-f526-4378-be22-c50959c6f2c7"
      },
      "source": [
        "# Import Dataset from Google Drive\n",
        "from google.colab import drive\n",
        "drive.mount('/content/drive')\n",
        "\n",
        "train_path = r'drive/My Drive/Dataset/Adult Income/adult.csv'"
      ],
      "execution_count": null,
      "outputs": [
        {
          "output_type": "stream",
          "text": [
            "Drive already mounted at /content/drive; to attempt to forcibly remount, call drive.mount(\"/content/drive\", force_remount=True).\n"
          ],
          "name": "stdout"
        }
      ]
    },
    {
      "cell_type": "code",
      "metadata": {
        "colab": {
          "base_uri": "https://localhost:8080/",
          "height": 546
        },
        "id": "Dz35vIYnsi2t",
        "outputId": "b145e7a8-a357-43d2-9af3-ca9d9a1f6766"
      },
      "source": [
        "# Read Dataset\n",
        "import pandas as pd\n",
        "\n",
        "data_train = pd.read_csv(train_path)\n",
        "\n",
        "# If you don't use google drive import\n",
        "# data_train = pd.read_csv('adult.csv') \n",
        "\n",
        "# Print first 10 rows\n",
        "data_train.head(10)"
      ],
      "execution_count": null,
      "outputs": [
        {
          "output_type": "execute_result",
          "data": {
            "text/html": [
              "<div>\n",
              "<style scoped>\n",
              "    .dataframe tbody tr th:only-of-type {\n",
              "        vertical-align: middle;\n",
              "    }\n",
              "\n",
              "    .dataframe tbody tr th {\n",
              "        vertical-align: top;\n",
              "    }\n",
              "\n",
              "    .dataframe thead th {\n",
              "        text-align: right;\n",
              "    }\n",
              "</style>\n",
              "<table border=\"1\" class=\"dataframe\">\n",
              "  <thead>\n",
              "    <tr style=\"text-align: right;\">\n",
              "      <th></th>\n",
              "      <th>age</th>\n",
              "      <th>workclass</th>\n",
              "      <th>fnlwgt</th>\n",
              "      <th>education</th>\n",
              "      <th>educational-num</th>\n",
              "      <th>marital-status</th>\n",
              "      <th>occupation</th>\n",
              "      <th>relationship</th>\n",
              "      <th>race</th>\n",
              "      <th>gender</th>\n",
              "      <th>capital-gain</th>\n",
              "      <th>capital-loss</th>\n",
              "      <th>hours-per-week</th>\n",
              "      <th>native-country</th>\n",
              "      <th>income</th>\n",
              "    </tr>\n",
              "  </thead>\n",
              "  <tbody>\n",
              "    <tr>\n",
              "      <th>0</th>\n",
              "      <td>25</td>\n",
              "      <td>Private</td>\n",
              "      <td>226802</td>\n",
              "      <td>11th</td>\n",
              "      <td>7</td>\n",
              "      <td>Never-married</td>\n",
              "      <td>Machine-op-inspct</td>\n",
              "      <td>Own-child</td>\n",
              "      <td>Black</td>\n",
              "      <td>Male</td>\n",
              "      <td>0</td>\n",
              "      <td>0</td>\n",
              "      <td>40</td>\n",
              "      <td>United-States</td>\n",
              "      <td>&lt;=50K</td>\n",
              "    </tr>\n",
              "    <tr>\n",
              "      <th>1</th>\n",
              "      <td>38</td>\n",
              "      <td>Private</td>\n",
              "      <td>89814</td>\n",
              "      <td>HS-grad</td>\n",
              "      <td>9</td>\n",
              "      <td>Married-civ-spouse</td>\n",
              "      <td>Farming-fishing</td>\n",
              "      <td>Husband</td>\n",
              "      <td>White</td>\n",
              "      <td>Male</td>\n",
              "      <td>0</td>\n",
              "      <td>0</td>\n",
              "      <td>50</td>\n",
              "      <td>United-States</td>\n",
              "      <td>&lt;=50K</td>\n",
              "    </tr>\n",
              "    <tr>\n",
              "      <th>2</th>\n",
              "      <td>28</td>\n",
              "      <td>Local-gov</td>\n",
              "      <td>336951</td>\n",
              "      <td>Assoc-acdm</td>\n",
              "      <td>12</td>\n",
              "      <td>Married-civ-spouse</td>\n",
              "      <td>Protective-serv</td>\n",
              "      <td>Husband</td>\n",
              "      <td>White</td>\n",
              "      <td>Male</td>\n",
              "      <td>0</td>\n",
              "      <td>0</td>\n",
              "      <td>40</td>\n",
              "      <td>United-States</td>\n",
              "      <td>&gt;50K</td>\n",
              "    </tr>\n",
              "    <tr>\n",
              "      <th>3</th>\n",
              "      <td>44</td>\n",
              "      <td>Private</td>\n",
              "      <td>160323</td>\n",
              "      <td>Some-college</td>\n",
              "      <td>10</td>\n",
              "      <td>Married-civ-spouse</td>\n",
              "      <td>Machine-op-inspct</td>\n",
              "      <td>Husband</td>\n",
              "      <td>Black</td>\n",
              "      <td>Male</td>\n",
              "      <td>7688</td>\n",
              "      <td>0</td>\n",
              "      <td>40</td>\n",
              "      <td>United-States</td>\n",
              "      <td>&gt;50K</td>\n",
              "    </tr>\n",
              "    <tr>\n",
              "      <th>4</th>\n",
              "      <td>18</td>\n",
              "      <td>?</td>\n",
              "      <td>103497</td>\n",
              "      <td>Some-college</td>\n",
              "      <td>10</td>\n",
              "      <td>Never-married</td>\n",
              "      <td>?</td>\n",
              "      <td>Own-child</td>\n",
              "      <td>White</td>\n",
              "      <td>Female</td>\n",
              "      <td>0</td>\n",
              "      <td>0</td>\n",
              "      <td>30</td>\n",
              "      <td>United-States</td>\n",
              "      <td>&lt;=50K</td>\n",
              "    </tr>\n",
              "    <tr>\n",
              "      <th>5</th>\n",
              "      <td>34</td>\n",
              "      <td>Private</td>\n",
              "      <td>198693</td>\n",
              "      <td>10th</td>\n",
              "      <td>6</td>\n",
              "      <td>Never-married</td>\n",
              "      <td>Other-service</td>\n",
              "      <td>Not-in-family</td>\n",
              "      <td>White</td>\n",
              "      <td>Male</td>\n",
              "      <td>0</td>\n",
              "      <td>0</td>\n",
              "      <td>30</td>\n",
              "      <td>United-States</td>\n",
              "      <td>&lt;=50K</td>\n",
              "    </tr>\n",
              "    <tr>\n",
              "      <th>6</th>\n",
              "      <td>29</td>\n",
              "      <td>?</td>\n",
              "      <td>227026</td>\n",
              "      <td>HS-grad</td>\n",
              "      <td>9</td>\n",
              "      <td>Never-married</td>\n",
              "      <td>?</td>\n",
              "      <td>Unmarried</td>\n",
              "      <td>Black</td>\n",
              "      <td>Male</td>\n",
              "      <td>0</td>\n",
              "      <td>0</td>\n",
              "      <td>40</td>\n",
              "      <td>United-States</td>\n",
              "      <td>&lt;=50K</td>\n",
              "    </tr>\n",
              "    <tr>\n",
              "      <th>7</th>\n",
              "      <td>63</td>\n",
              "      <td>Self-emp-not-inc</td>\n",
              "      <td>104626</td>\n",
              "      <td>Prof-school</td>\n",
              "      <td>15</td>\n",
              "      <td>Married-civ-spouse</td>\n",
              "      <td>Prof-specialty</td>\n",
              "      <td>Husband</td>\n",
              "      <td>White</td>\n",
              "      <td>Male</td>\n",
              "      <td>3103</td>\n",
              "      <td>0</td>\n",
              "      <td>32</td>\n",
              "      <td>United-States</td>\n",
              "      <td>&gt;50K</td>\n",
              "    </tr>\n",
              "    <tr>\n",
              "      <th>8</th>\n",
              "      <td>24</td>\n",
              "      <td>Private</td>\n",
              "      <td>369667</td>\n",
              "      <td>Some-college</td>\n",
              "      <td>10</td>\n",
              "      <td>Never-married</td>\n",
              "      <td>Other-service</td>\n",
              "      <td>Unmarried</td>\n",
              "      <td>White</td>\n",
              "      <td>Female</td>\n",
              "      <td>0</td>\n",
              "      <td>0</td>\n",
              "      <td>40</td>\n",
              "      <td>United-States</td>\n",
              "      <td>&lt;=50K</td>\n",
              "    </tr>\n",
              "    <tr>\n",
              "      <th>9</th>\n",
              "      <td>55</td>\n",
              "      <td>Private</td>\n",
              "      <td>104996</td>\n",
              "      <td>7th-8th</td>\n",
              "      <td>4</td>\n",
              "      <td>Married-civ-spouse</td>\n",
              "      <td>Craft-repair</td>\n",
              "      <td>Husband</td>\n",
              "      <td>White</td>\n",
              "      <td>Male</td>\n",
              "      <td>0</td>\n",
              "      <td>0</td>\n",
              "      <td>10</td>\n",
              "      <td>United-States</td>\n",
              "      <td>&lt;=50K</td>\n",
              "    </tr>\n",
              "  </tbody>\n",
              "</table>\n",
              "</div>"
            ],
            "text/plain": [
              "   age         workclass  fnlwgt  ... hours-per-week  native-country income\n",
              "0   25           Private  226802  ...             40   United-States  <=50K\n",
              "1   38           Private   89814  ...             50   United-States  <=50K\n",
              "2   28         Local-gov  336951  ...             40   United-States   >50K\n",
              "3   44           Private  160323  ...             40   United-States   >50K\n",
              "4   18                 ?  103497  ...             30   United-States  <=50K\n",
              "5   34           Private  198693  ...             30   United-States  <=50K\n",
              "6   29                 ?  227026  ...             40   United-States  <=50K\n",
              "7   63  Self-emp-not-inc  104626  ...             32   United-States   >50K\n",
              "8   24           Private  369667  ...             40   United-States  <=50K\n",
              "9   55           Private  104996  ...             10   United-States  <=50K\n",
              "\n",
              "[10 rows x 15 columns]"
            ]
          },
          "metadata": {
            "tags": []
          },
          "execution_count": 2
        }
      ]
    },
    {
      "cell_type": "code",
      "metadata": {
        "colab": {
          "base_uri": "https://localhost:8080/"
        },
        "id": "1uRb3g6QuDAL",
        "outputId": "2be4446c-c7da-470a-93c4-42837d394417"
      },
      "source": [
        "# Dataset Summary\n",
        "data_train.info()"
      ],
      "execution_count": null,
      "outputs": [
        {
          "output_type": "stream",
          "text": [
            "<class 'pandas.core.frame.DataFrame'>\n",
            "RangeIndex: 48842 entries, 0 to 48841\n",
            "Data columns (total 15 columns):\n",
            " #   Column           Non-Null Count  Dtype \n",
            "---  ------           --------------  ----- \n",
            " 0   age              48842 non-null  int64 \n",
            " 1   workclass        48842 non-null  object\n",
            " 2   fnlwgt           48842 non-null  int64 \n",
            " 3   education        48842 non-null  object\n",
            " 4   educational-num  48842 non-null  int64 \n",
            " 5   marital-status   48842 non-null  object\n",
            " 6   occupation       48842 non-null  object\n",
            " 7   relationship     48842 non-null  object\n",
            " 8   race             48842 non-null  object\n",
            " 9   gender           48842 non-null  object\n",
            " 10  capital-gain     48842 non-null  int64 \n",
            " 11  capital-loss     48842 non-null  int64 \n",
            " 12  hours-per-week   48842 non-null  int64 \n",
            " 13  native-country   48842 non-null  object\n",
            " 14  income           48842 non-null  object\n",
            "dtypes: int64(6), object(9)\n",
            "memory usage: 5.6+ MB\n"
          ],
          "name": "stdout"
        }
      ]
    },
    {
      "cell_type": "code",
      "metadata": {
        "colab": {
          "base_uri": "https://localhost:8080/",
          "height": 297
        },
        "id": "VgtJ1j91rTts",
        "outputId": "a9ec9263-8034-47f6-95b9-6c7c8a64734a"
      },
      "source": [
        "# Data Statistics\n",
        "data_train.describe()"
      ],
      "execution_count": null,
      "outputs": [
        {
          "output_type": "execute_result",
          "data": {
            "text/html": [
              "<div>\n",
              "<style scoped>\n",
              "    .dataframe tbody tr th:only-of-type {\n",
              "        vertical-align: middle;\n",
              "    }\n",
              "\n",
              "    .dataframe tbody tr th {\n",
              "        vertical-align: top;\n",
              "    }\n",
              "\n",
              "    .dataframe thead th {\n",
              "        text-align: right;\n",
              "    }\n",
              "</style>\n",
              "<table border=\"1\" class=\"dataframe\">\n",
              "  <thead>\n",
              "    <tr style=\"text-align: right;\">\n",
              "      <th></th>\n",
              "      <th>age</th>\n",
              "      <th>fnlwgt</th>\n",
              "      <th>educational-num</th>\n",
              "      <th>capital-gain</th>\n",
              "      <th>capital-loss</th>\n",
              "      <th>hours-per-week</th>\n",
              "    </tr>\n",
              "  </thead>\n",
              "  <tbody>\n",
              "    <tr>\n",
              "      <th>count</th>\n",
              "      <td>48842.000000</td>\n",
              "      <td>4.884200e+04</td>\n",
              "      <td>48842.000000</td>\n",
              "      <td>48842.000000</td>\n",
              "      <td>48842.000000</td>\n",
              "      <td>48842.000000</td>\n",
              "    </tr>\n",
              "    <tr>\n",
              "      <th>mean</th>\n",
              "      <td>38.643585</td>\n",
              "      <td>1.896641e+05</td>\n",
              "      <td>10.078089</td>\n",
              "      <td>1079.067626</td>\n",
              "      <td>87.502314</td>\n",
              "      <td>40.422382</td>\n",
              "    </tr>\n",
              "    <tr>\n",
              "      <th>std</th>\n",
              "      <td>13.710510</td>\n",
              "      <td>1.056040e+05</td>\n",
              "      <td>2.570973</td>\n",
              "      <td>7452.019058</td>\n",
              "      <td>403.004552</td>\n",
              "      <td>12.391444</td>\n",
              "    </tr>\n",
              "    <tr>\n",
              "      <th>min</th>\n",
              "      <td>17.000000</td>\n",
              "      <td>1.228500e+04</td>\n",
              "      <td>1.000000</td>\n",
              "      <td>0.000000</td>\n",
              "      <td>0.000000</td>\n",
              "      <td>1.000000</td>\n",
              "    </tr>\n",
              "    <tr>\n",
              "      <th>25%</th>\n",
              "      <td>28.000000</td>\n",
              "      <td>1.175505e+05</td>\n",
              "      <td>9.000000</td>\n",
              "      <td>0.000000</td>\n",
              "      <td>0.000000</td>\n",
              "      <td>40.000000</td>\n",
              "    </tr>\n",
              "    <tr>\n",
              "      <th>50%</th>\n",
              "      <td>37.000000</td>\n",
              "      <td>1.781445e+05</td>\n",
              "      <td>10.000000</td>\n",
              "      <td>0.000000</td>\n",
              "      <td>0.000000</td>\n",
              "      <td>40.000000</td>\n",
              "    </tr>\n",
              "    <tr>\n",
              "      <th>75%</th>\n",
              "      <td>48.000000</td>\n",
              "      <td>2.376420e+05</td>\n",
              "      <td>12.000000</td>\n",
              "      <td>0.000000</td>\n",
              "      <td>0.000000</td>\n",
              "      <td>45.000000</td>\n",
              "    </tr>\n",
              "    <tr>\n",
              "      <th>max</th>\n",
              "      <td>90.000000</td>\n",
              "      <td>1.490400e+06</td>\n",
              "      <td>16.000000</td>\n",
              "      <td>99999.000000</td>\n",
              "      <td>4356.000000</td>\n",
              "      <td>99.000000</td>\n",
              "    </tr>\n",
              "  </tbody>\n",
              "</table>\n",
              "</div>"
            ],
            "text/plain": [
              "                age        fnlwgt  ...  capital-loss  hours-per-week\n",
              "count  48842.000000  4.884200e+04  ...  48842.000000    48842.000000\n",
              "mean      38.643585  1.896641e+05  ...     87.502314       40.422382\n",
              "std       13.710510  1.056040e+05  ...    403.004552       12.391444\n",
              "min       17.000000  1.228500e+04  ...      0.000000        1.000000\n",
              "25%       28.000000  1.175505e+05  ...      0.000000       40.000000\n",
              "50%       37.000000  1.781445e+05  ...      0.000000       40.000000\n",
              "75%       48.000000  2.376420e+05  ...      0.000000       45.000000\n",
              "max       90.000000  1.490400e+06  ...   4356.000000       99.000000\n",
              "\n",
              "[8 rows x 6 columns]"
            ]
          },
          "metadata": {
            "tags": []
          },
          "execution_count": 4
        }
      ]
    },
    {
      "cell_type": "markdown",
      "metadata": {
        "id": "F5YQpn2vgJXa"
      },
      "source": [
        "# Visualization"
      ]
    },
    {
      "cell_type": "code",
      "metadata": {
        "colab": {
          "base_uri": "https://localhost:8080/",
          "height": 334
        },
        "id": "hMZTpCd2yrNi",
        "outputId": "3468a064-c57c-43e8-c4d8-8136123f2a95"
      },
      "source": [
        "# Checking Number of Samples\n",
        "import matplotlib.pyplot as plt              \n",
        "import seaborn as sns\n",
        "\n",
        "fig, ax = plt.subplots(figsize=(5, 5))\n",
        "sns.countplot(x='income', data=data_train)\n",
        "plt.xlabel(\"Class Label (Income)\")\n",
        "plt.ylabel(\"Number of Samples\")\n",
        "plt.show()"
      ],
      "execution_count": null,
      "outputs": [
        {
          "output_type": "display_data",
          "data": {
            "image/png": "[encoded data removed]",
            "text/plain": [
              "<Figure size 360x360 with 1 Axes>"
            ]
          },
          "metadata": {
            "tags": [],
            "needs_background": "light"
          }
        }
      ]
    },
    {
      "cell_type": "code",
      "metadata": {
        "colab": {
          "base_uri": "https://localhost:8080/",
          "height": 334
        },
        "id": "gsYcgmwVBRMf",
        "outputId": "61026b78-7e7a-4574-eb4a-1dac780d71fd"
      },
      "source": [
        "fig, ax = plt.subplots(figsize=(15, 5))\n",
        "sns.countplot(x='workclass', data=data_train)\n",
        "plt.xlabel(\"Workclass\")\n",
        "plt.ylabel(\"Number of Samples\")\n",
        "plt.show()"
      ],
      "execution_count": null,
      "outputs": [
        {
          "output_type": "display_data",
          "data": {
            "image/png": "[encoded data removed]",
            "text/plain": [
              "<Figure size 1080x360 with 1 Axes>"
            ]
          },
          "metadata": {
            "tags": [],
            "needs_background": "light"
          }
        }
      ]
    },
    {
      "cell_type": "code",
      "metadata": {
        "colab": {
          "base_uri": "https://localhost:8080/",
          "height": 334
        },
        "id": "Tk18xbYT6Xw4",
        "outputId": "22ea363a-b8af-46be-e8e9-2daad204ad20"
      },
      "source": [
        "fig, ax = plt.subplots(figsize=(20, 5))\n",
        "sns.countplot(x='education', data=data_train)\n",
        "plt.xlabel(\"Education\")\n",
        "plt.ylabel(\"Number of Samples\")\n",
        "plt.show()"
      ],
      "execution_count": null,
      "outputs": [
        {
          "output_type": "display_data",
          "data": {
            "image/png": "[encoded data removed]",
            "text/plain": [
              "<Figure size 1440x360 with 1 Axes>"
            ]
          },
          "metadata": {
            "tags": [],
            "needs_background": "light"
          }
        }
      ]
    },
    {
      "cell_type": "code",
      "metadata": {
        "colab": {
          "base_uri": "https://localhost:8080/",
          "height": 334
        },
        "id": "G-zkIbEv9h48",
        "outputId": "530c1bed-23f1-4c04-ead8-e898d3182d16"
      },
      "source": [
        "fig, ax = plt.subplots(figsize=(20, 5))\n",
        "sns.countplot(x='educational-num', data=data_train)\n",
        "plt.xlabel(\"Educational Num\")\n",
        "plt.ylabel(\"Number of Samples\")\n",
        "plt.show()"
      ],
      "execution_count": null,
      "outputs": [
        {
          "output_type": "display_data",
          "data": {
            "image/png": "[encoded data removed]",
            "text/plain": [
              "<Figure size 1440x360 with 1 Axes>"
            ]
          },
          "metadata": {
            "tags": [],
            "needs_background": "light"
          }
        }
      ]
    },
    {
      "cell_type": "code",
      "metadata": {
        "colab": {
          "base_uri": "https://localhost:8080/",
          "height": 334
        },
        "id": "CfGIqTqZ_za3",
        "outputId": "eda940cb-584e-420b-f8ca-1515125c05de"
      },
      "source": [
        "fig, ax = plt.subplots(figsize=(15, 5))\n",
        "sns.countplot(x='marital-status', data=data_train)\n",
        "plt.xlabel(\"Marital Status\")\n",
        "plt.ylabel(\"Number of Samples\")\n",
        "plt.show()"
      ],
      "execution_count": null,
      "outputs": [
        {
          "output_type": "display_data",
          "data": {
            "image/png": "[encoded data removed]",
            "text/plain": [
              "<Figure size 1080x360 with 1 Axes>"
            ]
          },
          "metadata": {
            "tags": [],
            "needs_background": "light"
          }
        }
      ]
    },
    {
      "cell_type": "code",
      "metadata": {
        "colab": {
          "base_uri": "https://localhost:8080/",
          "height": 287
        },
        "id": "N84vrY44Bo-2",
        "outputId": "fb8bc619-2827-4b89-d6fc-e89ca9aed788"
      },
      "source": [
        "fig, ax = plt.subplots(figsize=(25, 5))\n",
        "sns.countplot(x='occupation', data=data_train)\n",
        "plt.xlabel(\"Occupation\")\n",
        "plt.ylabel(\"Number of Samples\")\n",
        "plt.show()"
      ],
      "execution_count": null,
      "outputs": [
        {
          "output_type": "display_data",
          "data": {
            "image/png": "[encoded data removed]",
            "text/plain": [
              "<Figure size 1800x360 with 1 Axes>"
            ]
          },
          "metadata": {
            "tags": [],
            "needs_background": "light"
          }
        }
      ]
    },
    {
      "cell_type": "code",
      "metadata": {
        "colab": {
          "base_uri": "https://localhost:8080/",
          "height": 334
        },
        "id": "8XCOR1VLBum1",
        "outputId": "bb9ae639-51d6-41d7-b6c8-280786dc7ecf"
      },
      "source": [
        "fig, ax = plt.subplots(figsize=(10, 5))\n",
        "sns.countplot(x='relationship', data=data_train)\n",
        "plt.xlabel(\"Relationship\")\n",
        "plt.ylabel(\"Number of Samples\")\n",
        "plt.show()"
      ],
      "execution_count": null,
      "outputs": [
        {
          "output_type": "display_data",
          "data": {
            "image/png": "[encoded data removed]",
            "text/plain": [
              "<Figure size 720x360 with 1 Axes>"
            ]
          },
          "metadata": {
            "tags": [],
            "needs_background": "light"
          }
        }
      ]
    },
    {
      "cell_type": "code",
      "metadata": {
        "colab": {
          "base_uri": "https://localhost:8080/",
          "height": 334
        },
        "id": "C24v07E4COAL",
        "outputId": "386590b1-d66d-45f3-ee56-74c3a4b5c78a"
      },
      "source": [
        "fig, ax = plt.subplots(figsize=(10, 5))\n",
        "sns.countplot(x='race', data=data_train)\n",
        "plt.xlabel(\"Race\")\n",
        "plt.ylabel(\"Number of Samples\")\n",
        "plt.show()"
      ],
      "execution_count": null,
      "outputs": [
        {
          "output_type": "display_data",
          "data": {
            "image/png": "[encoded data removed]",
            "text/plain": [
              "<Figure size 720x360 with 1 Axes>"
            ]
          },
          "metadata": {
            "tags": [],
            "needs_background": "light"
          }
        }
      ]
    },
    {
      "cell_type": "code",
      "metadata": {
        "colab": {
          "base_uri": "https://localhost:8080/",
          "height": 334
        },
        "id": "KxPZRPqJCPXI",
        "outputId": "a0e2d198-3e50-4d44-cc85-65765c7363a2"
      },
      "source": [
        "fig, ax = plt.subplots(figsize=(5, 5))\n",
        "sns.countplot(x='gender', data=data_train)\n",
        "plt.xlabel(\"Gender\")\n",
        "plt.ylabel(\"Number of Samples\")\n",
        "plt.show()"
      ],
      "execution_count": null,
      "outputs": [
        {
          "output_type": "display_data",
          "data": {
            "image/png": "[encoded data removed]",
            "text/plain": [
              "<Figure size 360x360 with 1 Axes>"
            ]
          },
          "metadata": {
            "tags": [],
            "needs_background": "light"
          }
        }
      ]
    },
    {
      "cell_type": "code",
      "metadata": {
        "colab": {
          "base_uri": "https://localhost:8080/",
          "height": 87
        },
        "id": "ycqaC6Z-CRBj",
        "outputId": "560bdf9e-3b0e-4d4c-8593-10e006ed99e5"
      },
      "source": [
        "fig, ax = plt.subplots(figsize=(100, 5))\n",
        "sns.countplot(x='native-country', data=data_train)\n",
        "plt.xlabel(\"Native Country\")\n",
        "plt.ylabel(\"Number of Samples\")\n",
        "plt.show()"
      ],
      "execution_count": null,
      "outputs": [
        {
          "output_type": "display_data",
          "data": {
            "image/png": "[encoded data removed]",
            "text/plain": [
              "<Figure size 7200x360 with 1 Axes>"
            ]
          },
          "metadata": {
            "tags": [],
            "needs_background": "light"
          }
        }
      ]
    },
    {
      "cell_type": "markdown",
      "metadata": {
        "id": "cR3Y4f7pneOG"
      },
      "source": [
        "# Pre - processing"
      ]
    },
    {
      "cell_type": "code",
      "metadata": {
        "colab": {
          "base_uri": "https://localhost:8080/",
          "height": 436
        },
        "id": "bgPR7hXrpEvg",
        "outputId": "1e51be2a-4065-4286-971b-4abf8a49b7a7"
      },
      "source": [
        "# Ordinal Encoder\n",
        "from sklearn.preprocessing import OrdinalEncoder\n",
        "\n",
        "oe = OrdinalEncoder()\n",
        "data_train_encoded = oe.fit_transform(data_train.select_dtypes(object))\n",
        "data_train_encoded = pd.DataFrame(data=data_train_encoded, columns=data_train.select_dtypes(object).columns)\n",
        "\n",
        "data_train = pd.concat([data_train.select_dtypes(int), data_train_encoded], axis=1)\n",
        "data_train = data_train.astype(int)\n",
        "\n",
        "data_train"
      ],
      "execution_count": null,
      "outputs": [
        {
          "output_type": "execute_result",
          "data": {
            "text/html": [
              "<div>\n",
              "<style scoped>\n",
              "    .dataframe tbody tr th:only-of-type {\n",
              "        vertical-align: middle;\n",
              "    }\n",
              "\n",
              "    .dataframe tbody tr th {\n",
              "        vertical-align: top;\n",
              "    }\n",
              "\n",
              "    .dataframe thead th {\n",
              "        text-align: right;\n",
              "    }\n",
              "</style>\n",
              "<table border=\"1\" class=\"dataframe\">\n",
              "  <thead>\n",
              "    <tr style=\"text-align: right;\">\n",
              "      <th></th>\n",
              "      <th>age</th>\n",
              "      <th>fnlwgt</th>\n",
              "      <th>educational-num</th>\n",
              "      <th>capital-gain</th>\n",
              "      <th>capital-loss</th>\n",
              "      <th>hours-per-week</th>\n",
              "      <th>workclass</th>\n",
              "      <th>education</th>\n",
              "      <th>marital-status</th>\n",
              "      <th>occupation</th>\n",
              "      <th>relationship</th>\n",
              "      <th>race</th>\n",
              "      <th>gender</th>\n",
              "      <th>native-country</th>\n",
              "      <th>income</th>\n",
              "    </tr>\n",
              "  </thead>\n",
              "  <tbody>\n",
              "    <tr>\n",
              "      <th>0</th>\n",
              "      <td>25</td>\n",
              "      <td>226802</td>\n",
              "      <td>7</td>\n",
              "      <td>0</td>\n",
              "      <td>0</td>\n",
              "      <td>40</td>\n",
              "      <td>4</td>\n",
              "      <td>1</td>\n",
              "      <td>4</td>\n",
              "      <td>7</td>\n",
              "      <td>3</td>\n",
              "      <td>2</td>\n",
              "      <td>1</td>\n",
              "      <td>39</td>\n",
              "      <td>0</td>\n",
              "    </tr>\n",
              "    <tr>\n",
              "      <th>1</th>\n",
              "      <td>38</td>\n",
              "      <td>89814</td>\n",
              "      <td>9</td>\n",
              "      <td>0</td>\n",
              "      <td>0</td>\n",
              "      <td>50</td>\n",
              "      <td>4</td>\n",
              "      <td>11</td>\n",
              "      <td>2</td>\n",
              "      <td>5</td>\n",
              "      <td>0</td>\n",
              "      <td>4</td>\n",
              "      <td>1</td>\n",
              "      <td>39</td>\n",
              "      <td>0</td>\n",
              "    </tr>\n",
              "    <tr>\n",
              "      <th>2</th>\n",
              "      <td>28</td>\n",
              "      <td>336951</td>\n",
              "      <td>12</td>\n",
              "      <td>0</td>\n",
              "      <td>0</td>\n",
              "      <td>40</td>\n",
              "      <td>2</td>\n",
              "      <td>7</td>\n",
              "      <td>2</td>\n",
              "      <td>11</td>\n",
              "      <td>0</td>\n",
              "      <td>4</td>\n",
              "      <td>1</td>\n",
              "      <td>39</td>\n",
              "      <td>1</td>\n",
              "    </tr>\n",
              "    <tr>\n",
              "      <th>3</th>\n",
              "      <td>44</td>\n",
              "      <td>160323</td>\n",
              "      <td>10</td>\n",
              "      <td>7688</td>\n",
              "      <td>0</td>\n",
              "      <td>40</td>\n",
              "      <td>4</td>\n",
              "      <td>15</td>\n",
              "      <td>2</td>\n",
              "      <td>7</td>\n",
              "      <td>0</td>\n",
              "      <td>2</td>\n",
              "      <td>1</td>\n",
              "      <td>39</td>\n",
              "      <td>1</td>\n",
              "    </tr>\n",
              "    <tr>\n",
              "      <th>4</th>\n",
              "      <td>18</td>\n",
              "      <td>103497</td>\n",
              "      <td>10</td>\n",
              "      <td>0</td>\n",
              "      <td>0</td>\n",
              "      <td>30</td>\n",
              "      <td>0</td>\n",
              "      <td>15</td>\n",
              "      <td>4</td>\n",
              "      <td>0</td>\n",
              "      <td>3</td>\n",
              "      <td>4</td>\n",
              "      <td>0</td>\n",
              "      <td>39</td>\n",
              "      <td>0</td>\n",
              "    </tr>\n",
              "    <tr>\n",
              "      <th>...</th>\n",
              "      <td>...</td>\n",
              "      <td>...</td>\n",
              "      <td>...</td>\n",
              "      <td>...</td>\n",
              "      <td>...</td>\n",
              "      <td>...</td>\n",
              "      <td>...</td>\n",
              "      <td>...</td>\n",
              "      <td>...</td>\n",
              "      <td>...</td>\n",
              "      <td>...</td>\n",
              "      <td>...</td>\n",
              "      <td>...</td>\n",
              "      <td>...</td>\n",
              "      <td>...</td>\n",
              "    </tr>\n",
              "    <tr>\n",
              "      <th>48837</th>\n",
              "      <td>27</td>\n",
              "      <td>257302</td>\n",
              "      <td>12</td>\n",
              "      <td>0</td>\n",
              "      <td>0</td>\n",
              "      <td>38</td>\n",
              "      <td>4</td>\n",
              "      <td>7</td>\n",
              "      <td>2</td>\n",
              "      <td>13</td>\n",
              "      <td>5</td>\n",
              "      <td>4</td>\n",
              "      <td>0</td>\n",
              "      <td>39</td>\n",
              "      <td>0</td>\n",
              "    </tr>\n",
              "    <tr>\n",
              "      <th>48838</th>\n",
              "      <td>40</td>\n",
              "      <td>154374</td>\n",
              "      <td>9</td>\n",
              "      <td>0</td>\n",
              "      <td>0</td>\n",
              "      <td>40</td>\n",
              "      <td>4</td>\n",
              "      <td>11</td>\n",
              "      <td>2</td>\n",
              "      <td>7</td>\n",
              "      <td>0</td>\n",
              "      <td>4</td>\n",
              "      <td>1</td>\n",
              "      <td>39</td>\n",
              "      <td>1</td>\n",
              "    </tr>\n",
              "    <tr>\n",
              "      <th>48839</th>\n",
              "      <td>58</td>\n",
              "      <td>151910</td>\n",
              "      <td>9</td>\n",
              "      <td>0</td>\n",
              "      <td>0</td>\n",
              "      <td>40</td>\n",
              "      <td>4</td>\n",
              "      <td>11</td>\n",
              "      <td>6</td>\n",
              "      <td>1</td>\n",
              "      <td>4</td>\n",
              "      <td>4</td>\n",
              "      <td>0</td>\n",
              "      <td>39</td>\n",
              "      <td>0</td>\n",
              "    </tr>\n",
              "    <tr>\n",
              "      <th>48840</th>\n",
              "      <td>22</td>\n",
              "      <td>201490</td>\n",
              "      <td>9</td>\n",
              "      <td>0</td>\n",
              "      <td>0</td>\n",
              "      <td>20</td>\n",
              "      <td>4</td>\n",
              "      <td>11</td>\n",
              "      <td>4</td>\n",
              "      <td>1</td>\n",
              "      <td>3</td>\n",
              "      <td>4</td>\n",
              "      <td>1</td>\n",
              "      <td>39</td>\n",
              "      <td>0</td>\n",
              "    </tr>\n",
              "    <tr>\n",
              "      <th>48841</th>\n",
              "      <td>52</td>\n",
              "      <td>287927</td>\n",
              "      <td>9</td>\n",
              "      <td>15024</td>\n",
              "      <td>0</td>\n",
              "      <td>40</td>\n",
              "      <td>5</td>\n",
              "      <td>11</td>\n",
              "      <td>2</td>\n",
              "      <td>4</td>\n",
              "      <td>5</td>\n",
              "      <td>4</td>\n",
              "      <td>0</td>\n",
              "      <td>39</td>\n",
              "      <td>1</td>\n",
              "    </tr>\n",
              "  </tbody>\n",
              "</table>\n",
              "<p>48842 rows × 15 columns</p>\n",
              "</div>"
            ],
            "text/plain": [
              "       age  fnlwgt  educational-num  ...  gender  native-country  income\n",
              "0       25  226802                7  ...       1              39       0\n",
              "1       38   89814                9  ...       1              39       0\n",
              "2       28  336951               12  ...       1              39       1\n",
              "3       44  160323               10  ...       1              39       1\n",
              "4       18  103497               10  ...       0              39       0\n",
              "...    ...     ...              ...  ...     ...             ...     ...\n",
              "48837   27  257302               12  ...       0              39       0\n",
              "48838   40  154374                9  ...       1              39       1\n",
              "48839   58  151910                9  ...       0              39       0\n",
              "48840   22  201490                9  ...       1              39       0\n",
              "48841   52  287927                9  ...       0              39       1\n",
              "\n",
              "[48842 rows x 15 columns]"
            ]
          },
          "metadata": {
            "tags": []
          },
          "execution_count": 15
        }
      ]
    },
    {
      "cell_type": "code",
      "metadata": {
        "colab": {
          "base_uri": "https://localhost:8080/"
        },
        "id": "jPDXS18MyTWl",
        "outputId": "7d08a794-12f2-4fa0-db38-ad6fc6fbd7cb"
      },
      "source": [
        "# Checking Missing Values\n",
        "data_train.isna().sum()"
      ],
      "execution_count": null,
      "outputs": [
        {
          "output_type": "execute_result",
          "data": {
            "text/plain": [
              "age                0\n",
              "fnlwgt             0\n",
              "educational-num    0\n",
              "capital-gain       0\n",
              "capital-loss       0\n",
              "hours-per-week     0\n",
              "workclass          0\n",
              "education          0\n",
              "marital-status     0\n",
              "occupation         0\n",
              "relationship       0\n",
              "race               0\n",
              "gender             0\n",
              "native-country     0\n",
              "income             0\n",
              "dtype: int64"
            ]
          },
          "metadata": {
            "tags": []
          },
          "execution_count": 16
        }
      ]
    },
    {
      "cell_type": "code",
      "metadata": {
        "colab": {
          "base_uri": "https://localhost:8080/"
        },
        "id": "gfZgC3p1QXZ2",
        "outputId": "feb85e8c-5748-48ec-df05-87caddcff51e"
      },
      "source": [
        "# Check Duplicate Values\n",
        "data_train = data_train.drop_duplicates()\n",
        "dup_check = data_train.duplicated().any()\n",
        "\n",
        "data_train.info()"
      ],
      "execution_count": null,
      "outputs": [
        {
          "output_type": "stream",
          "text": [
            "<class 'pandas.core.frame.DataFrame'>\n",
            "Int64Index: 48790 entries, 0 to 48841\n",
            "Data columns (total 15 columns):\n",
            " #   Column           Non-Null Count  Dtype\n",
            "---  ------           --------------  -----\n",
            " 0   age              48790 non-null  int64\n",
            " 1   fnlwgt           48790 non-null  int64\n",
            " 2   educational-num  48790 non-null  int64\n",
            " 3   capital-gain     48790 non-null  int64\n",
            " 4   capital-loss     48790 non-null  int64\n",
            " 5   hours-per-week   48790 non-null  int64\n",
            " 6   workclass        48790 non-null  int64\n",
            " 7   education        48790 non-null  int64\n",
            " 8   marital-status   48790 non-null  int64\n",
            " 9   occupation       48790 non-null  int64\n",
            " 10  relationship     48790 non-null  int64\n",
            " 11  race             48790 non-null  int64\n",
            " 12  gender           48790 non-null  int64\n",
            " 13  native-country   48790 non-null  int64\n",
            " 14  income           48790 non-null  int64\n",
            "dtypes: int64(15)\n",
            "memory usage: 6.0 MB\n"
          ],
          "name": "stdout"
        }
      ]
    },
    {
      "cell_type": "code",
      "metadata": {
        "colab": {
          "base_uri": "https://localhost:8080/",
          "height": 334
        },
        "id": "RnVrT81ZsOED",
        "outputId": "81c4714c-3932-4534-b728-67c88b5d4bdb"
      },
      "source": [
        "# Data Statistics - After Encoded\n",
        "data_train.describe()"
      ],
      "execution_count": null,
      "outputs": [
        {
          "output_type": "execute_result",
          "data": {
            "text/html": [
              "<div>\n",
              "<style scoped>\n",
              "    .dataframe tbody tr th:only-of-type {\n",
              "        vertical-align: middle;\n",
              "    }\n",
              "\n",
              "    .dataframe tbody tr th {\n",
              "        vertical-align: top;\n",
              "    }\n",
              "\n",
              "    .dataframe thead th {\n",
              "        text-align: right;\n",
              "    }\n",
              "</style>\n",
              "<table border=\"1\" class=\"dataframe\">\n",
              "  <thead>\n",
              "    <tr style=\"text-align: right;\">\n",
              "      <th></th>\n",
              "      <th>age</th>\n",
              "      <th>fnlwgt</th>\n",
              "      <th>educational-num</th>\n",
              "      <th>capital-gain</th>\n",
              "      <th>capital-loss</th>\n",
              "      <th>hours-per-week</th>\n",
              "      <th>workclass</th>\n",
              "      <th>education</th>\n",
              "      <th>marital-status</th>\n",
              "      <th>occupation</th>\n",
              "      <th>relationship</th>\n",
              "      <th>race</th>\n",
              "      <th>gender</th>\n",
              "      <th>native-country</th>\n",
              "      <th>income</th>\n",
              "    </tr>\n",
              "  </thead>\n",
              "  <tbody>\n",
              "    <tr>\n",
              "      <th>count</th>\n",
              "      <td>48790.000000</td>\n",
              "      <td>4.879000e+04</td>\n",
              "      <td>48790.000000</td>\n",
              "      <td>48790.000000</td>\n",
              "      <td>48790.000000</td>\n",
              "      <td>48790.000000</td>\n",
              "      <td>48790.000000</td>\n",
              "      <td>48790.000000</td>\n",
              "      <td>48790.000000</td>\n",
              "      <td>48790.000000</td>\n",
              "      <td>48790.000000</td>\n",
              "      <td>48790.000000</td>\n",
              "      <td>48790.000000</td>\n",
              "      <td>48790.000000</td>\n",
              "      <td>48790.000000</td>\n",
              "    </tr>\n",
              "    <tr>\n",
              "      <th>mean</th>\n",
              "      <td>38.652798</td>\n",
              "      <td>1.896690e+05</td>\n",
              "      <td>10.078807</td>\n",
              "      <td>1080.217688</td>\n",
              "      <td>87.595573</td>\n",
              "      <td>40.425886</td>\n",
              "      <td>3.870568</td>\n",
              "      <td>10.287989</td>\n",
              "      <td>2.618077</td>\n",
              "      <td>6.578623</td>\n",
              "      <td>1.443472</td>\n",
              "      <td>3.667903</td>\n",
              "      <td>0.668457</td>\n",
              "      <td>36.751138</td>\n",
              "      <td>0.239414</td>\n",
              "    </tr>\n",
              "    <tr>\n",
              "      <th>std</th>\n",
              "      <td>13.708493</td>\n",
              "      <td>1.056172e+05</td>\n",
              "      <td>2.570046</td>\n",
              "      <td>7455.905921</td>\n",
              "      <td>403.209129</td>\n",
              "      <td>12.392729</td>\n",
              "      <td>1.464548</td>\n",
              "      <td>3.874617</td>\n",
              "      <td>1.507877</td>\n",
              "      <td>4.230953</td>\n",
              "      <td>1.602571</td>\n",
              "      <td>0.846133</td>\n",
              "      <td>0.470773</td>\n",
              "      <td>7.774674</td>\n",
              "      <td>0.426730</td>\n",
              "    </tr>\n",
              "    <tr>\n",
              "      <th>min</th>\n",
              "      <td>17.000000</td>\n",
              "      <td>1.228500e+04</td>\n",
              "      <td>1.000000</td>\n",
              "      <td>0.000000</td>\n",
              "      <td>0.000000</td>\n",
              "      <td>1.000000</td>\n",
              "      <td>0.000000</td>\n",
              "      <td>0.000000</td>\n",
              "      <td>0.000000</td>\n",
              "      <td>0.000000</td>\n",
              "      <td>0.000000</td>\n",
              "      <td>0.000000</td>\n",
              "      <td>0.000000</td>\n",
              "      <td>0.000000</td>\n",
              "      <td>0.000000</td>\n",
              "    </tr>\n",
              "    <tr>\n",
              "      <th>25%</th>\n",
              "      <td>28.000000</td>\n",
              "      <td>1.175550e+05</td>\n",
              "      <td>9.000000</td>\n",
              "      <td>0.000000</td>\n",
              "      <td>0.000000</td>\n",
              "      <td>40.000000</td>\n",
              "      <td>4.000000</td>\n",
              "      <td>9.000000</td>\n",
              "      <td>2.000000</td>\n",
              "      <td>3.000000</td>\n",
              "      <td>0.000000</td>\n",
              "      <td>4.000000</td>\n",
              "      <td>0.000000</td>\n",
              "      <td>39.000000</td>\n",
              "      <td>0.000000</td>\n",
              "    </tr>\n",
              "    <tr>\n",
              "      <th>50%</th>\n",
              "      <td>37.000000</td>\n",
              "      <td>1.781385e+05</td>\n",
              "      <td>10.000000</td>\n",
              "      <td>0.000000</td>\n",
              "      <td>0.000000</td>\n",
              "      <td>40.000000</td>\n",
              "      <td>4.000000</td>\n",
              "      <td>11.000000</td>\n",
              "      <td>2.000000</td>\n",
              "      <td>7.000000</td>\n",
              "      <td>1.000000</td>\n",
              "      <td>4.000000</td>\n",
              "      <td>1.000000</td>\n",
              "      <td>39.000000</td>\n",
              "      <td>0.000000</td>\n",
              "    </tr>\n",
              "    <tr>\n",
              "      <th>75%</th>\n",
              "      <td>48.000000</td>\n",
              "      <td>2.376062e+05</td>\n",
              "      <td>12.000000</td>\n",
              "      <td>0.000000</td>\n",
              "      <td>0.000000</td>\n",
              "      <td>45.000000</td>\n",
              "      <td>4.000000</td>\n",
              "      <td>12.000000</td>\n",
              "      <td>4.000000</td>\n",
              "      <td>10.000000</td>\n",
              "      <td>3.000000</td>\n",
              "      <td>4.000000</td>\n",
              "      <td>1.000000</td>\n",
              "      <td>39.000000</td>\n",
              "      <td>0.000000</td>\n",
              "    </tr>\n",
              "    <tr>\n",
              "      <th>max</th>\n",
              "      <td>90.000000</td>\n",
              "      <td>1.490400e+06</td>\n",
              "      <td>16.000000</td>\n",
              "      <td>99999.000000</td>\n",
              "      <td>4356.000000</td>\n",
              "      <td>99.000000</td>\n",
              "      <td>8.000000</td>\n",
              "      <td>15.000000</td>\n",
              "      <td>6.000000</td>\n",
              "      <td>14.000000</td>\n",
              "      <td>5.000000</td>\n",
              "      <td>4.000000</td>\n",
              "      <td>1.000000</td>\n",
              "      <td>41.000000</td>\n",
              "      <td>1.000000</td>\n",
              "    </tr>\n",
              "  </tbody>\n",
              "</table>\n",
              "</div>"
            ],
            "text/plain": [
              "                age        fnlwgt  ...  native-country        income\n",
              "count  48790.000000  4.879000e+04  ...    48790.000000  48790.000000\n",
              "mean      38.652798  1.896690e+05  ...       36.751138      0.239414\n",
              "std       13.708493  1.056172e+05  ...        7.774674      0.426730\n",
              "min       17.000000  1.228500e+04  ...        0.000000      0.000000\n",
              "25%       28.000000  1.175550e+05  ...       39.000000      0.000000\n",
              "50%       37.000000  1.781385e+05  ...       39.000000      0.000000\n",
              "75%       48.000000  2.376062e+05  ...       39.000000      0.000000\n",
              "max       90.000000  1.490400e+06  ...       41.000000      1.000000\n",
              "\n",
              "[8 rows x 15 columns]"
            ]
          },
          "metadata": {
            "tags": []
          },
          "execution_count": 18
        }
      ]
    },
    {
      "cell_type": "code",
      "metadata": {
        "colab": {
          "base_uri": "https://localhost:8080/",
          "height": 578
        },
        "id": "s9ZNCboVwg0I",
        "outputId": "b737f6ba-bdac-424f-ebd8-f4c54a7d3edb"
      },
      "source": [
        "# Check Correlation\n",
        "corr_mat = data_train.corr()\n",
        "\n",
        "f, ax = plt.subplots(figsize=(9, 8)) \n",
        "sns.heatmap(corr_mat, ax=ax, cmap=\"YlGnBu\", linewidths=0.1)"
      ],
      "execution_count": null,
      "outputs": [
        {
          "output_type": "execute_result",
          "data": {
            "text/plain": [
              "<matplotlib.axes._subplots.AxesSubplot at 0x7f006b380290>"
            ]
          },
          "metadata": {
            "tags": []
          },
          "execution_count": 19
        },
        {
          "output_type": "display_data",
          "data": {
            "image/png": "[encoded data removed]",
            "text/plain": [
              "<Figure size 648x576 with 2 Axes>"
            ]
          },
          "metadata": {
            "tags": [],
            "needs_background": "light"
          }
        }
      ]
    },
    {
      "cell_type": "code",
      "metadata": {
        "colab": {
          "base_uri": "https://localhost:8080/"
        },
        "id": "TaKU27vHwgqU",
        "outputId": "cdc58b50-c9aa-4aec-e022-dc6bce8a2f27"
      },
      "source": [
        "# Absolute Correlation\n",
        "corr_mat['income'] = abs(corr_mat['income'])\n",
        "sorted_corr_mat = corr_mat.sort_values(by=['income'], ascending=False)\n",
        "sorted_corr_mat['income']"
      ],
      "execution_count": null,
      "outputs": [
        {
          "output_type": "execute_result",
          "data": {
            "text/plain": [
              "income             1.000000\n",
              "educational-num    0.332802\n",
              "relationship       0.253175\n",
              "age                0.230144\n",
              "hours-per-week     0.227664\n",
              "capital-gain       0.223047\n",
              "gender             0.214639\n",
              "marital-status     0.198855\n",
              "capital-loss       0.147542\n",
              "education          0.080118\n",
              "occupation         0.076675\n",
              "race               0.070970\n",
              "workclass          0.052634\n",
              "native-country     0.012010\n",
              "fnlwgt             0.006309\n",
              "Name: income, dtype: float64"
            ]
          },
          "metadata": {
            "tags": []
          },
          "execution_count": 20
        }
      ]
    },
    {
      "cell_type": "code",
      "metadata": {
        "colab": {
          "base_uri": "https://localhost:8080/",
          "height": 419
        },
        "id": "a9CCxYlvxRdZ",
        "outputId": "2e750cf8-d422-4e97-9a7c-6622c714d5b1"
      },
      "source": [
        "# Features Selection\n",
        "features = ['educational-num', 'relationship', 'age', 'hours-per-week', 'capital-gain', 'gender', 'marital-status', 'capital-loss', 'income']\n",
        "data_train = data_train[features]\n",
        "\n",
        "data_train"
      ],
      "execution_count": null,
      "outputs": [
        {
          "output_type": "execute_result",
          "data": {
            "text/html": [
              "<div>\n",
              "<style scoped>\n",
              "    .dataframe tbody tr th:only-of-type {\n",
              "        vertical-align: middle;\n",
              "    }\n",
              "\n",
              "    .dataframe tbody tr th {\n",
              "        vertical-align: top;\n",
              "    }\n",
              "\n",
              "    .dataframe thead th {\n",
              "        text-align: right;\n",
              "    }\n",
              "</style>\n",
              "<table border=\"1\" class=\"dataframe\">\n",
              "  <thead>\n",
              "    <tr style=\"text-align: right;\">\n",
              "      <th></th>\n",
              "      <th>educational-num</th>\n",
              "      <th>relationship</th>\n",
              "      <th>age</th>\n",
              "      <th>hours-per-week</th>\n",
              "      <th>capital-gain</th>\n",
              "      <th>gender</th>\n",
              "      <th>marital-status</th>\n",
              "      <th>capital-loss</th>\n",
              "      <th>income</th>\n",
              "    </tr>\n",
              "  </thead>\n",
              "  <tbody>\n",
              "    <tr>\n",
              "      <th>0</th>\n",
              "      <td>7</td>\n",
              "      <td>3</td>\n",
              "      <td>25</td>\n",
              "      <td>40</td>\n",
              "      <td>0</td>\n",
              "      <td>1</td>\n",
              "      <td>4</td>\n",
              "      <td>0</td>\n",
              "      <td>0</td>\n",
              "    </tr>\n",
              "    <tr>\n",
              "      <th>1</th>\n",
              "      <td>9</td>\n",
              "      <td>0</td>\n",
              "      <td>38</td>\n",
              "      <td>50</td>\n",
              "      <td>0</td>\n",
              "      <td>1</td>\n",
              "      <td>2</td>\n",
              "      <td>0</td>\n",
              "      <td>0</td>\n",
              "    </tr>\n",
              "    <tr>\n",
              "      <th>2</th>\n",
              "      <td>12</td>\n",
              "      <td>0</td>\n",
              "      <td>28</td>\n",
              "      <td>40</td>\n",
              "      <td>0</td>\n",
              "      <td>1</td>\n",
              "      <td>2</td>\n",
              "      <td>0</td>\n",
              "      <td>1</td>\n",
              "    </tr>\n",
              "    <tr>\n",
              "      <th>3</th>\n",
              "      <td>10</td>\n",
              "      <td>0</td>\n",
              "      <td>44</td>\n",
              "      <td>40</td>\n",
              "      <td>7688</td>\n",
              "      <td>1</td>\n",
              "      <td>2</td>\n",
              "      <td>0</td>\n",
              "      <td>1</td>\n",
              "    </tr>\n",
              "    <tr>\n",
              "      <th>4</th>\n",
              "      <td>10</td>\n",
              "      <td>3</td>\n",
              "      <td>18</td>\n",
              "      <td>30</td>\n",
              "      <td>0</td>\n",
              "      <td>0</td>\n",
              "      <td>4</td>\n",
              "      <td>0</td>\n",
              "      <td>0</td>\n",
              "    </tr>\n",
              "    <tr>\n",
              "      <th>...</th>\n",
              "      <td>...</td>\n",
              "      <td>...</td>\n",
              "      <td>...</td>\n",
              "      <td>...</td>\n",
              "      <td>...</td>\n",
              "      <td>...</td>\n",
              "      <td>...</td>\n",
              "      <td>...</td>\n",
              "      <td>...</td>\n",
              "    </tr>\n",
              "    <tr>\n",
              "      <th>48837</th>\n",
              "      <td>12</td>\n",
              "      <td>5</td>\n",
              "      <td>27</td>\n",
              "      <td>38</td>\n",
              "      <td>0</td>\n",
              "      <td>0</td>\n",
              "      <td>2</td>\n",
              "      <td>0</td>\n",
              "      <td>0</td>\n",
              "    </tr>\n",
              "    <tr>\n",
              "      <th>48838</th>\n",
              "      <td>9</td>\n",
              "      <td>0</td>\n",
              "      <td>40</td>\n",
              "      <td>40</td>\n",
              "      <td>0</td>\n",
              "      <td>1</td>\n",
              "      <td>2</td>\n",
              "      <td>0</td>\n",
              "      <td>1</td>\n",
              "    </tr>\n",
              "    <tr>\n",
              "      <th>48839</th>\n",
              "      <td>9</td>\n",
              "      <td>4</td>\n",
              "      <td>58</td>\n",
              "      <td>40</td>\n",
              "      <td>0</td>\n",
              "      <td>0</td>\n",
              "      <td>6</td>\n",
              "      <td>0</td>\n",
              "      <td>0</td>\n",
              "    </tr>\n",
              "    <tr>\n",
              "      <th>48840</th>\n",
              "      <td>9</td>\n",
              "      <td>3</td>\n",
              "      <td>22</td>\n",
              "      <td>20</td>\n",
              "      <td>0</td>\n",
              "      <td>1</td>\n",
              "      <td>4</td>\n",
              "      <td>0</td>\n",
              "      <td>0</td>\n",
              "    </tr>\n",
              "    <tr>\n",
              "      <th>48841</th>\n",
              "      <td>9</td>\n",
              "      <td>5</td>\n",
              "      <td>52</td>\n",
              "      <td>40</td>\n",
              "      <td>15024</td>\n",
              "      <td>0</td>\n",
              "      <td>2</td>\n",
              "      <td>0</td>\n",
              "      <td>1</td>\n",
              "    </tr>\n",
              "  </tbody>\n",
              "</table>\n",
              "<p>48790 rows × 9 columns</p>\n",
              "</div>"
            ],
            "text/plain": [
              "       educational-num  relationship  age  ...  marital-status  capital-loss  income\n",
              "0                    7             3   25  ...               4             0       0\n",
              "1                    9             0   38  ...               2             0       0\n",
              "2                   12             0   28  ...               2             0       1\n",
              "3                   10             0   44  ...               2             0       1\n",
              "4                   10             3   18  ...               4             0       0\n",
              "...                ...           ...  ...  ...             ...           ...     ...\n",
              "48837               12             5   27  ...               2             0       0\n",
              "48838                9             0   40  ...               2             0       1\n",
              "48839                9             4   58  ...               6             0       0\n",
              "48840                9             3   22  ...               4             0       0\n",
              "48841                9             5   52  ...               2             0       1\n",
              "\n",
              "[48790 rows x 9 columns]"
            ]
          },
          "metadata": {
            "tags": []
          },
          "execution_count": 21
        }
      ]
    },
    {
      "cell_type": "code",
      "metadata": {
        "colab": {
          "base_uri": "https://localhost:8080/",
          "height": 717
        },
        "id": "rdawsHhP1W_C",
        "outputId": "e1200882-137a-4480-b133-237f53c35eb0"
      },
      "source": [
        "# Check Outliers\n",
        "f, ax = plt.subplots(figsize=(18, 12)) \n",
        "data_train.boxplot()"
      ],
      "execution_count": null,
      "outputs": [
        {
          "output_type": "execute_result",
          "data": {
            "text/plain": [
              "<matplotlib.axes._subplots.AxesSubplot at 0x7f0061d26a90>"
            ]
          },
          "metadata": {
            "tags": []
          },
          "execution_count": 22
        },
        {
          "output_type": "display_data",
          "data": {
            "image/png": "[encoded data removed]",
            "text/plain": [
              "<Figure size 1296x864 with 1 Axes>"
            ]
          },
          "metadata": {
            "tags": [],
            "needs_background": "light"
          }
        }
      ]
    },
    {
      "cell_type": "code",
      "metadata": {
        "id": "XXHyCVxYClYV"
      },
      "source": [
        "# Import train_test_split function\n",
        "import numpy as np\n",
        "from sklearn.model_selection import train_test_split\n",
        "\n",
        "y = np.array(data_train.pop('income'))\n",
        "X = np.array(data_train)\n",
        "\n",
        "# Split dataset into training set and test set\n",
        "X_train, X_test, y_train, y_test = train_test_split(X, y, test_size=0.3, random_state=42) # 70% training and 30% test"
      ],
      "execution_count": null,
      "outputs": []
    },
    {
      "cell_type": "code",
      "metadata": {
        "id": "fQyshdcx92j0"
      },
      "source": [
        "# Metric Evaluation\n",
        "from sklearn.metrics import make_scorer, accuracy_score, precision_score, recall_score, f1_score\n",
        "\n",
        "def get_metrics(true_labels, predicted_labels):\n",
        "    acc = np.round(accuracy_score(true_labels, predicted_labels), 4)\n",
        "    prec = np.round(precision_score(true_labels, predicted_labels, average='weighted'), 4)\n",
        "    recall = np.round(recall_score(true_labels, predicted_labels, average='weighted'), 4)\n",
        "    f1 = np.round(f1_score(true_labels, predicted_labels, average='weighted'), 4)\n",
        "    return [acc, prec, recall, f1]\n",
        "\n",
        "final_score_headers = ['Model','Acc','Precision','Recall','F1']\n",
        "final_score = pd.DataFrame(columns=final_score_headers)"
      ],
      "execution_count": null,
      "outputs": []
    },
    {
      "cell_type": "markdown",
      "metadata": {
        "id": "RcO0dvVI-g-G"
      },
      "source": [
        "# Classification"
      ]
    },
    {
      "cell_type": "code",
      "metadata": {
        "colab": {
          "base_uri": "https://localhost:8080/"
        },
        "id": "6k2lPuV364HI",
        "outputId": "f4504bca-6f37-4fc0-b5d3-a838a54a3bb8"
      },
      "source": [
        "# KNN Classification\n",
        "from sklearn.neighbors import KNeighborsClassifier \n",
        "\n",
        "acc_KNN = []\n",
        "max_acc = 0\n",
        "final_rows = []\n",
        "x_axis_KNN = range(5, 31)\n",
        "for i in x_axis_KNN:\n",
        "    knn = KNeighborsClassifier(n_neighbors=i)\n",
        "    knn.fit(X_train, y_train)\n",
        "    y_pred = knn.predict(X_test)\n",
        "    accuracy = accuracy_score(y_test, y_pred) * 100\n",
        "    if accuracy > max_acc:\n",
        "        final_rows = ['KNN'] + get_metrics(y_test, y_pred)\n",
        "        max_acc = accuracy\n",
        "    acc_KNN.append(accuracy)\n",
        "    print (\"Accuracy for KNN for n neighbors = \", i, \" is: \", accuracy)\n",
        "\n",
        "print (\"Highest accuracy for KNN is: \", max(acc_KNN))\n",
        "final_score = pd.concat([final_score, pd.DataFrame([final_rows], columns=final_score_headers)])"
      ],
      "execution_count": null,
      "outputs": [
        {
          "output_type": "stream",
          "text": [
            "Accuracy for KNN for n neighbors =  5  is:  84.40254150440664\n",
            "Accuracy for KNN for n neighbors =  6  is:  84.71681355469018\n",
            "Accuracy for KNN for n neighbors =  7  is:  84.64166154266584\n",
            "Accuracy for KNN for n neighbors =  8  is:  84.73730955796952\n",
            "Accuracy for KNN for n neighbors =  9  is:  84.79879756780761\n",
            "Accuracy for KNN for n neighbors =  10  is:  84.96959759513561\n",
            "Accuracy for KNN for n neighbors =  11  is:  84.79879756780761\n",
            "Accuracy for KNN for n neighbors =  12  is:  84.89444558311129\n",
            "Accuracy for KNN for n neighbors =  13  is:  85.0994056159049\n",
            "Accuracy for KNN for n neighbors =  14  is:  84.99009359841497\n",
            "Accuracy for KNN for n neighbors =  15  is:  84.98326159732186\n",
            "Accuracy for KNN for n neighbors =  16  is:  85.04474960715994\n",
            "Accuracy for KNN for n neighbors =  17  is:  85.0310856049737\n",
            "Accuracy for KNN for n neighbors =  18  is:  85.11990161918426\n",
            "Accuracy for KNN for n neighbors =  19  is:  85.17455762792922\n",
            "Accuracy for KNN for n neighbors =  20  is:  85.21554963448794\n",
            "Accuracy for KNN for n neighbors =  21  is:  85.04474960715994\n",
            "Accuracy for KNN for n neighbors =  22  is:  85.03791760606681\n",
            "Accuracy for KNN for n neighbors =  23  is:  85.03791760606681\n",
            "Accuracy for KNN for n neighbors =  24  is:  84.9969255995081\n",
            "Accuracy for KNN for n neighbors =  25  is:  84.94910159185626\n",
            "Accuracy for KNN for n neighbors =  26  is:  85.04474960715994\n",
            "Accuracy for KNN for n neighbors =  27  is:  84.94226959076313\n",
            "Accuracy for KNN for n neighbors =  28  is:  85.02425360388057\n",
            "Accuracy for KNN for n neighbors =  29  is:  85.05841360934618\n",
            "Accuracy for KNN for n neighbors =  30  is:  84.81929357108697\n",
            "Highest accuracy for KNN is:  85.21554963448794\n"
          ],
          "name": "stdout"
        }
      ]
    },
    {
      "cell_type": "code",
      "metadata": {
        "colab": {
          "base_uri": "https://localhost:8080/"
        },
        "id": "qZ9oafU0MVqy",
        "outputId": "b35a2c7e-9ccb-4648-8210-d45dde35f852"
      },
      "source": [
        "# Decision Tree\n",
        "from sklearn.tree import DecisionTreeClassifier\n",
        "\n",
        "acc = []\n",
        "max_acc = 0\n",
        "final_rows = []\n",
        "x_axis_DT = range(3, 21)\n",
        "for i in x_axis_DT:\n",
        "    DT = DecisionTreeClassifier(criterion=\"gini\",\n",
        "                                random_state=40,\n",
        "                                max_depth=i, \n",
        "                                min_samples_leaf=5)\n",
        "    DT.fit(X_train, y_train)\n",
        "    y_pred = DT.predict(X_test)\n",
        "    accuracy = accuracy_score(y_test, y_pred) * 100\n",
        "    if accuracy > max_acc:\n",
        "        final_rows = ['DT'] + get_metrics(y_test, y_pred)\n",
        "        max_acc = accuracy\n",
        "    acc.append(accuracy)\n",
        "    print (\"Accuracy for Decision Tree for max depth = \", i, \" is: \", accuracy)\n",
        "\n",
        "print (\"Highest accuracy for Decision Tree is: \", max(acc))\n",
        "final_score = pd.concat([final_score, pd.DataFrame([final_rows], columns=final_score_headers)])"
      ],
      "execution_count": null,
      "outputs": [
        {
          "output_type": "stream",
          "text": [
            "Accuracy for Decision Tree for max depth =  3  is:  83.73300539728086\n",
            "Accuracy for Decision Tree for max depth =  4  is:  84.22490947598553\n",
            "Accuracy for Decision Tree for max depth =  5  is:  85.0652456104393\n",
            "Accuracy for Decision Tree for max depth =  6  is:  85.20871763339483\n",
            "Accuracy for Decision Tree for max depth =  7  is:  85.51615768258523\n",
            "Accuracy for Decision Tree for max depth =  8  is:  85.37951766072283\n",
            "Accuracy for Decision Tree for max depth =  9  is:  85.6459657033545\n",
            "Accuracy for Decision Tree for max depth =  10  is:  85.6049736967958\n",
            "Accuracy for Decision Tree for max depth =  11  is:  85.38634966181594\n",
            "Accuracy for Decision Tree for max depth =  12  is:  85.46150167384027\n",
            "Accuracy for Decision Tree for max depth =  13  is:  85.37951766072283\n",
            "Accuracy for Decision Tree for max depth =  14  is:  85.1677256268361\n",
            "Accuracy for Decision Tree for max depth =  15  is:  85.07890961262554\n",
            "Accuracy for Decision Tree for max depth =  16  is:  85.0652456104393\n",
            "Accuracy for Decision Tree for max depth =  17  is:  84.81929357108697\n",
            "Accuracy for Decision Tree for max depth =  18  is:  84.81246156999384\n",
            "Accuracy for Decision Tree for max depth =  19  is:  84.68948555031768\n",
            "Accuracy for Decision Tree for max depth =  20  is:  84.6621575459452\n",
            "Highest accuracy for Decision Tree is:  85.6459657033545\n"
          ],
          "name": "stdout"
        }
      ]
    },
    {
      "cell_type": "code",
      "metadata": {
        "colab": {
          "base_uri": "https://localhost:8080/"
        },
        "id": "uYA9HzwCMBOM",
        "outputId": "1bc968dd-eff3-4317-820f-6890949ae80a"
      },
      "source": [
        "# XGBoost Classification\n",
        "from xgboost import XGBClassifier\n",
        "\n",
        "acc_XGB = []\n",
        "max_acc = 0\n",
        "final_rows = []\n",
        "k_axis_XGB = range(15, 26)\n",
        "x_axis_XGB = range(15, 26)\n",
        "for k in k_axis_XGB:\n",
        "    for i in x_axis_XGB:\n",
        "        xgb = XGBClassifier(n_estimators=k, max_depth=i)\n",
        "        xgb.fit(X_train, y_train)\n",
        "        y_pred = xgb.predict(X_test)\n",
        "        accuracy = accuracy_score(y_test, y_pred) * 100\n",
        "        if accuracy > max_acc:\n",
        "            final_rows = ['XGB'] + get_metrics(y_test, y_pred)\n",
        "            max_acc = accuracy\n",
        "        acc_XGB.append(accuracy)\n",
        "        print (\"Accuracy for XGB for n estimators = \", k, \", max depth = \", i, \" is: \", accuracy)\n",
        "\n",
        "print (\"Highest accuracy for XGB is: \", max(acc_XGB))\n",
        "final_score = pd.concat([final_score, pd.DataFrame([final_rows], columns=final_score_headers)])"
      ],
      "execution_count": null,
      "outputs": [
        {
          "output_type": "stream",
          "text": [
            "Accuracy for XGB for n estimators =  15 , max depth =  15  is:  85.5366536858646\n",
            "Accuracy for XGB for n estimators =  15 , max depth =  16  is:  85.59814169570267\n",
            "Accuracy for XGB for n estimators =  15 , max depth =  17  is:  85.54348568695771\n",
            "Accuracy for XGB for n estimators =  15 , max depth =  18  is:  85.502493680399\n",
            "Accuracy for XGB for n estimators =  15 , max depth =  19  is:  85.37268565962971\n",
            "Accuracy for XGB for n estimators =  15 , max depth =  20  is:  85.29070164651228\n",
            "Accuracy for XGB for n estimators =  15 , max depth =  21  is:  85.3043656486985\n",
            "Accuracy for XGB for n estimators =  15 , max depth =  22  is:  85.26337364213978\n",
            "Accuracy for XGB for n estimators =  15 , max depth =  23  is:  85.2702056432329\n",
            "Accuracy for XGB for n estimators =  15 , max depth =  24  is:  85.20871763339483\n",
            "Accuracy for XGB for n estimators =  15 , max depth =  25  is:  85.17455762792922\n",
            "Accuracy for XGB for n estimators =  16 , max depth =  15  is:  85.5366536858646\n",
            "Accuracy for XGB for n estimators =  16 , max depth =  16  is:  85.6049736967958\n",
            "Accuracy for XGB for n estimators =  16 , max depth =  17  is:  85.5366536858646\n",
            "Accuracy for XGB for n estimators =  16 , max depth =  18  is:  85.55714968914396\n",
            "Accuracy for XGB for n estimators =  16 , max depth =  19  is:  85.35902165744346\n",
            "Accuracy for XGB for n estimators =  16 , max depth =  20  is:  85.28386964541914\n",
            "Accuracy for XGB for n estimators =  16 , max depth =  21  is:  85.25654164104667\n",
            "Accuracy for XGB for n estimators =  16 , max depth =  22  is:  85.2018856323017\n",
            "Accuracy for XGB for n estimators =  16 , max depth =  23  is:  85.24970963995354\n",
            "Accuracy for XGB for n estimators =  16 , max depth =  24  is:  85.18822163011546\n",
            "Accuracy for XGB for n estimators =  16 , max depth =  25  is:  85.22921363667419\n",
            "Accuracy for XGB for n estimators =  17 , max depth =  15  is:  85.57081369133019\n",
            "Accuracy for XGB for n estimators =  17 , max depth =  16  is:  85.62546970007516\n",
            "Accuracy for XGB for n estimators =  17 , max depth =  17  is:  85.52298968367835\n",
            "Accuracy for XGB for n estimators =  17 , max depth =  18  is:  85.59814169570267\n",
            "Accuracy for XGB for n estimators =  17 , max depth =  19  is:  85.42050966728155\n",
            "Accuracy for XGB for n estimators =  17 , max depth =  20  is:  85.31119764979162\n",
            "Accuracy for XGB for n estimators =  17 , max depth =  21  is:  85.27703764432603\n",
            "Accuracy for XGB for n estimators =  17 , max depth =  22  is:  85.22238163558106\n",
            "Accuracy for XGB for n estimators =  17 , max depth =  23  is:  85.24970963995354\n",
            "Accuracy for XGB for n estimators =  17 , max depth =  24  is:  85.22921363667419\n",
            "Accuracy for XGB for n estimators =  17 , max depth =  25  is:  85.18138962902235\n",
            "Accuracy for XGB for n estimators =  18 , max depth =  15  is:  85.65279770444764\n",
            "Accuracy for XGB for n estimators =  18 , max depth =  16  is:  85.61180569788891\n",
            "Accuracy for XGB for n estimators =  18 , max depth =  17  is:  85.5366536858646\n",
            "Accuracy for XGB for n estimators =  18 , max depth =  18  is:  85.59814169570267\n",
            "Accuracy for XGB for n estimators =  18 , max depth =  19  is:  85.44783767165403\n",
            "Accuracy for XGB for n estimators =  18 , max depth =  20  is:  85.37268565962971\n",
            "Accuracy for XGB for n estimators =  18 , max depth =  21  is:  85.33169365307099\n",
            "Accuracy for XGB for n estimators =  18 , max depth =  22  is:  85.3043656486985\n",
            "Accuracy for XGB for n estimators =  18 , max depth =  23  is:  85.24287763886042\n",
            "Accuracy for XGB for n estimators =  18 , max depth =  24  is:  85.20871763339483\n",
            "Accuracy for XGB for n estimators =  18 , max depth =  25  is:  85.14722962355674\n",
            "Accuracy for XGB for n estimators =  19 , max depth =  15  is:  85.63913370226139\n",
            "Accuracy for XGB for n estimators =  19 , max depth =  16  is:  85.59130969460955\n",
            "Accuracy for XGB for n estimators =  19 , max depth =  17  is:  85.5366536858646\n",
            "Accuracy for XGB for n estimators =  19 , max depth =  18  is:  85.59130969460955\n",
            "Accuracy for XGB for n estimators =  19 , max depth =  19  is:  85.52982168477146\n",
            "Accuracy for XGB for n estimators =  19 , max depth =  20  is:  85.38634966181594\n",
            "Accuracy for XGB for n estimators =  19 , max depth =  21  is:  85.37268565962971\n",
            "Accuracy for XGB for n estimators =  19 , max depth =  22  is:  85.32486165197787\n",
            "Accuracy for XGB for n estimators =  19 , max depth =  23  is:  85.22921363667419\n",
            "Accuracy for XGB for n estimators =  19 , max depth =  24  is:  85.3043656486985\n",
            "Accuracy for XGB for n estimators =  19 , max depth =  25  is:  85.26337364213978\n",
            "Accuracy for XGB for n estimators =  20 , max depth =  15  is:  85.61180569788891\n",
            "Accuracy for XGB for n estimators =  20 , max depth =  16  is:  85.55714968914396\n",
            "Accuracy for XGB for n estimators =  20 , max depth =  17  is:  85.5776456924233\n",
            "Accuracy for XGB for n estimators =  20 , max depth =  18  is:  85.63230170116827\n",
            "Accuracy for XGB for n estimators =  20 , max depth =  19  is:  85.55031768805082\n",
            "Accuracy for XGB for n estimators =  20 , max depth =  20  is:  85.33852565416412\n",
            "Accuracy for XGB for n estimators =  20 , max depth =  21  is:  85.37951766072283\n",
            "Accuracy for XGB for n estimators =  20 , max depth =  22  is:  85.35218965635035\n",
            "Accuracy for XGB for n estimators =  20 , max depth =  23  is:  85.27703764432603\n",
            "Accuracy for XGB for n estimators =  20 , max depth =  24  is:  85.3043656486985\n",
            "Accuracy for XGB for n estimators =  20 , max depth =  25  is:  85.26337364213978\n",
            "Accuracy for XGB for n estimators =  21 , max depth =  15  is:  85.6459657033545\n",
            "Accuracy for XGB for n estimators =  21 , max depth =  16  is:  85.58447769351643\n",
            "Accuracy for XGB for n estimators =  21 , max depth =  17  is:  85.56398169023707\n",
            "Accuracy for XGB for n estimators =  21 , max depth =  18  is:  85.62546970007516\n",
            "Accuracy for XGB for n estimators =  21 , max depth =  19  is:  85.51615768258523\n",
            "Accuracy for XGB for n estimators =  21 , max depth =  20  is:  85.37951766072283\n",
            "Accuracy for XGB for n estimators =  21 , max depth =  21  is:  85.36585365853658\n",
            "Accuracy for XGB for n estimators =  21 , max depth =  22  is:  85.35902165744346\n",
            "Accuracy for XGB for n estimators =  21 , max depth =  23  is:  85.26337364213978\n",
            "Accuracy for XGB for n estimators =  21 , max depth =  24  is:  85.33852565416412\n",
            "Accuracy for XGB for n estimators =  21 , max depth =  25  is:  85.25654164104667\n",
            "Accuracy for XGB for n estimators =  22 , max depth =  15  is:  85.65962970554075\n",
            "Accuracy for XGB for n estimators =  22 , max depth =  16  is:  85.65962970554075\n",
            "Accuracy for XGB for n estimators =  22 , max depth =  17  is:  85.55714968914396\n",
            "Accuracy for XGB for n estimators =  22 , max depth =  18  is:  85.6459657033545\n",
            "Accuracy for XGB for n estimators =  22 , max depth =  19  is:  85.44783767165403\n",
            "Accuracy for XGB for n estimators =  22 , max depth =  20  is:  85.35218965635035\n",
            "Accuracy for XGB for n estimators =  22 , max depth =  21  is:  85.39318166290907\n",
            "Accuracy for XGB for n estimators =  22 , max depth =  22  is:  85.29070164651228\n",
            "Accuracy for XGB for n estimators =  22 , max depth =  23  is:  85.21554963448794\n",
            "Accuracy for XGB for n estimators =  22 , max depth =  24  is:  85.38634966181594\n",
            "Accuracy for XGB for n estimators =  22 , max depth =  25  is:  85.2360456377673\n",
            "Accuracy for XGB for n estimators =  23 , max depth =  15  is:  85.63913370226139\n",
            "Accuracy for XGB for n estimators =  23 , max depth =  16  is:  85.72111771537884\n",
            "Accuracy for XGB for n estimators =  23 , max depth =  17  is:  85.58447769351643\n",
            "Accuracy for XGB for n estimators =  23 , max depth =  18  is:  85.65962970554075\n",
            "Accuracy for XGB for n estimators =  23 , max depth =  19  is:  85.51615768258523\n",
            "Accuracy for XGB for n estimators =  23 , max depth =  20  is:  85.35218965635035\n",
            "Accuracy for XGB for n estimators =  23 , max depth =  21  is:  85.35902165744346\n",
            "Accuracy for XGB for n estimators =  23 , max depth =  22  is:  85.20871763339483\n",
            "Accuracy for XGB for n estimators =  23 , max depth =  23  is:  85.22921363667419\n",
            "Accuracy for XGB for n estimators =  23 , max depth =  24  is:  85.37268565962971\n",
            "Accuracy for XGB for n estimators =  23 , max depth =  25  is:  85.3043656486985\n",
            "Accuracy for XGB for n estimators =  24 , max depth =  15  is:  85.62546970007516\n",
            "Accuracy for XGB for n estimators =  24 , max depth =  16  is:  85.73478171756508\n",
            "Accuracy for XGB for n estimators =  24 , max depth =  17  is:  85.56398169023707\n",
            "Accuracy for XGB for n estimators =  24 , max depth =  18  is:  85.65279770444764\n",
            "Accuracy for XGB for n estimators =  24 , max depth =  19  is:  85.502493680399\n",
            "Accuracy for XGB for n estimators =  24 , max depth =  20  is:  85.33852565416412\n",
            "Accuracy for XGB for n estimators =  24 , max depth =  21  is:  85.37951766072283\n",
            "Accuracy for XGB for n estimators =  24 , max depth =  22  is:  85.2360456377673\n",
            "Accuracy for XGB for n estimators =  24 , max depth =  23  is:  85.24970963995354\n",
            "Accuracy for XGB for n estimators =  24 , max depth =  24  is:  85.35218965635035\n",
            "Accuracy for XGB for n estimators =  24 , max depth =  25  is:  85.31802965088474\n",
            "Accuracy for XGB for n estimators =  25 , max depth =  15  is:  85.65962970554075\n",
            "Accuracy for XGB for n estimators =  25 , max depth =  16  is:  85.70745371319259\n",
            "Accuracy for XGB for n estimators =  25 , max depth =  17  is:  85.5776456924233\n",
            "Accuracy for XGB for n estimators =  25 , max depth =  18  is:  85.6459657033545\n",
            "Accuracy for XGB for n estimators =  25 , max depth =  19  is:  85.46150167384027\n",
            "Accuracy for XGB for n estimators =  25 , max depth =  20  is:  85.37268565962971\n",
            "Accuracy for XGB for n estimators =  25 , max depth =  21  is:  85.4068456650953\n",
            "Accuracy for XGB for n estimators =  25 , max depth =  22  is:  85.27703764432603\n",
            "Accuracy for XGB for n estimators =  25 , max depth =  23  is:  85.27703764432603\n",
            "Accuracy for XGB for n estimators =  25 , max depth =  24  is:  85.37951766072283\n",
            "Accuracy for XGB for n estimators =  25 , max depth =  25  is:  85.37268565962971\n",
            "Highest accuracy for XGB is:  85.73478171756508\n"
          ],
          "name": "stdout"
        }
      ]
    },
    {
      "cell_type": "code",
      "metadata": {
        "id": "O6aVH_lJCAl4",
        "colab": {
          "base_uri": "https://localhost:8080/"
        },
        "outputId": "2a9a4d14-bb10-4d99-9e9b-e09c7a0734ca"
      },
      "source": [
        "# SVM Classification\n",
        "from sklearn import svm\n",
        "\n",
        "acc_SVM = []\n",
        "max_acc = 0\n",
        "final_rows = []\n",
        "x_axis_SVM = [0.1, 1, 10]\n",
        "k = ['poly', 'rbf', 'sigmoid']\n",
        "for k in k:\n",
        "    for i in x_axis_SVM:\n",
        "        SVM = svm.SVC(C=i, gamma='scale', kernel=k)\n",
        "        SVM.fit(X_train, y_train)\n",
        "        y_pred = SVM.predict(X_test)\n",
        "        accuracy = accuracy_score(y_test, y_pred) * 100\n",
        "        if accuracy > max_acc:\n",
        "            final_rows = ['SVM'] + get_metrics(y_test, y_pred)\n",
        "            max_acc = accuracy\n",
        "        acc_SVM.append(accuracy)\n",
        "        print (\"Accuracy for SVM for kernel = \", k, \" c = \", i, \" is: \", accuracy)\n",
        "\n",
        "print (\"Highest accuracy for SVM is: \", max(acc_SVM))\n",
        "final_score = pd.concat([final_score, pd.DataFrame([final_rows], columns=final_score_headers)])"
      ],
      "execution_count": null,
      "outputs": [
        {
          "output_type": "stream",
          "text": [
            "Accuracy for SVM for kernel =  poly  c =  0.1  is:  79.76361276217804\n",
            "Accuracy for SVM for kernel =  poly  c =  1  is:  79.75678076108493\n",
            "Accuracy for SVM for kernel =  poly  c =  10  is:  79.82510077201613\n",
            "Accuracy for SVM for kernel =  rbf  c =  0.1  is:  80.74058891849423\n",
            "Accuracy for SVM for kernel =  rbf  c =  1  is:  79.92074878731981\n",
            "Accuracy for SVM for kernel =  rbf  c =  10  is:  81.08902097424335\n",
            "Accuracy for SVM for kernel =  sigmoid  c =  0.1  is:  75.98551615768258\n",
            "Accuracy for SVM for kernel =  sigmoid  c =  1  is:  76.01284416205507\n",
            "Accuracy for SVM for kernel =  sigmoid  c =  10  is:  76.01284416205507\n",
            "Highest accuracy for SVM is:  81.08902097424335\n"
          ],
          "name": "stdout"
        }
      ]
    },
    {
      "cell_type": "code",
      "metadata": {
        "id": "Vq9p8CzDH36Q",
        "colab": {
          "base_uri": "https://localhost:8080/"
        },
        "outputId": "fc043211-8c19-48d1-b6d9-71b3b7cded30"
      },
      "source": [
        "# MLP Classification\n",
        "from sklearn.neural_network import MLPClassifier\n",
        "\n",
        "acc_MLP = []\n",
        "max_acc = 0\n",
        "final_rows = []\n",
        "x_axis_MLP = ['identity', 'logistic', 'tanh', 'relu']\n",
        "for i in x_axis_MLP:\n",
        "    MLP = MLPClassifier(activation=i, random_state=0, max_iter=2000)\n",
        "    MLP.fit(X_train, y_train)\n",
        "    y_pred = MLP.predict(X_test)\n",
        "    accuracy = accuracy_score(y_test, y_pred) * 100\n",
        "    if accuracy > max_acc:\n",
        "        final_rows = ['MLP'] + get_metrics(y_test, y_pred)\n",
        "        max_acc = accuracy\n",
        "    acc_MLP.append(accuracy)\n",
        "    print (\"Accuracy for MLP for activation = \",i ,\" is: \", accuracy)\n",
        "\n",
        "print (\"Highest accuracy for MLP is: \", max(acc_MLP))\n",
        "final_score = pd.concat([final_score, pd.DataFrame([final_rows], columns=final_score_headers)])"
      ],
      "execution_count": null,
      "outputs": [
        {
          "output_type": "stream",
          "text": [
            "Accuracy for MLP for activation =  identity  is:  78.568012570882\n",
            "Accuracy for MLP for activation =  logistic  is:  82.98831727813076\n",
            "Accuracy for MLP for activation =  tanh  is:  83.07713329234133\n",
            "Accuracy for MLP for activation =  relu  is:  81.75172508027602\n",
            "Highest accuracy for MLP is:  83.07713329234133\n"
          ],
          "name": "stdout"
        }
      ]
    },
    {
      "cell_type": "code",
      "metadata": {
        "id": "8hjEEWpXMm6D",
        "colab": {
          "base_uri": "https://localhost:8080/"
        },
        "outputId": "febe6cac-2b0e-4ba6-dcb0-39ec45fba4a4"
      },
      "source": [
        "# Random Forest\n",
        "from sklearn.ensemble import RandomForestClassifier\n",
        "\n",
        "acc_RF = []\n",
        "max_acc = 0\n",
        "final_rows = []\n",
        "x_axis_RF = range(21, 41)\n",
        "for i in x_axis_RF:\n",
        "    RF = RandomForestClassifier(n_estimators = i, random_state = 0)\n",
        "    RF.fit(X_train, y_train)\n",
        "    y_pred = RF.predict(X_test)\n",
        "    accuracy = accuracy_score(y_test, y_pred) * 100\n",
        "    if accuracy > max_acc:\n",
        "        final_rows = ['RF'] + get_metrics(y_test, y_pred)\n",
        "        max_acc = accuracy\n",
        "    acc_RF.append(accuracy)\n",
        "    print (\"Accuracy for Random Forest for estimator = \",i ,\" is: \", accuracy) \n",
        "\n",
        "print (\"Highest accuracy for Random Forest is: \", max(acc_RF))\n",
        "final_score = pd.concat([final_score, pd.DataFrame([final_rows], columns=final_score_headers)])"
      ],
      "execution_count": null,
      "outputs": [
        {
          "output_type": "stream",
          "text": [
            "Accuracy for Random Forest for estimator =  21  is:  84.15658946505431\n",
            "Accuracy for Random Forest for estimator =  22  is:  84.12926146068183\n",
            "Accuracy for Random Forest for estimator =  23  is:  84.19758147161303\n",
            "Accuracy for Random Forest for estimator =  24  is:  84.25906948145112\n",
            "Accuracy for Random Forest for estimator =  25  is:  84.3205574912892\n",
            "Accuracy for Random Forest for estimator =  26  is:  84.27273348363735\n",
            "Accuracy for Random Forest for estimator =  27  is:  84.27273348363735\n",
            "Accuracy for Random Forest for estimator =  28  is:  84.38887750222041\n",
            "Accuracy for Random Forest for estimator =  29  is:  84.30006148800983\n",
            "Accuracy for Random Forest for estimator =  30  is:  84.29322948691672\n",
            "Accuracy for Random Forest for estimator =  31  is:  84.38204550112728\n",
            "Accuracy for Random Forest for estimator =  32  is:  84.40254150440664\n",
            "Accuracy for Random Forest for estimator =  33  is:  84.42986950877912\n",
            "Accuracy for Random Forest for estimator =  34  is:  84.46402951424471\n",
            "Accuracy for Random Forest for estimator =  35  is:  84.4913575186172\n",
            "Accuracy for Random Forest for estimator =  36  is:  84.43670150987224\n",
            "Accuracy for Random Forest for estimator =  37  is:  84.44353351096537\n",
            "Accuracy for Random Forest for estimator =  38  is:  84.423037507686\n",
            "Accuracy for Random Forest for estimator =  39  is:  84.34788549566167\n",
            "Accuracy for Random Forest for estimator =  40  is:  84.423037507686\n",
            "Highest accuracy for Random Forest is:  84.4913575186172\n"
          ],
          "name": "stdout"
        }
      ]
    },
    {
      "cell_type": "code",
      "metadata": {
        "id": "O8rUmfQeBy64",
        "colab": {
          "base_uri": "https://localhost:8080/"
        },
        "outputId": "b3b7b7c7-e01c-421a-cb9f-de55f7f33788"
      },
      "source": [
        "# Final Score\n",
        "final_score = final_score.sort_values(by=['Acc'], ascending=False)\n",
        "final_score.index = np.arange(1, len(final_score)+1)\n",
        "\n",
        "print(final_score)"
      ],
      "execution_count": null,
      "outputs": [
        {
          "output_type": "stream",
          "text": [
            "  Model     Acc  Precision  Recall      F1\n",
            "1   XGB  0.8573     0.8512  0.8573  0.8510\n",
            "2    DT  0.8565     0.8510  0.8565  0.8465\n",
            "3   KNN  0.8522     0.8453  0.8522  0.8442\n",
            "4    RF  0.8449     0.8388  0.8449  0.8405\n",
            "5   MLP  0.8308     0.8210  0.8308  0.8216\n",
            "6   SVM  0.8109     0.8193  0.8109  0.7701\n"
          ],
          "name": "stdout"
        }
      ]
    }
  ]
}