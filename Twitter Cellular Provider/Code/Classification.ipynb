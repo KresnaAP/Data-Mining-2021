{
  "nbformat": 4,
  "nbformat_minor": 0,
  "metadata": {
    "kernelspec": {
      "display_name": "Python 3",
      "language": "python",
      "name": "python3"
    },
    "language_info": {
      "codemirror_mode": {
        "name": "ipython",
        "version": 3
      },
      "file_extension": ".py",
      "mimetype": "text/x-python",
      "name": "python",
      "nbconvert_exporter": "python",
      "pygments_lexer": "ipython3",
      "version": "3.7.6"
    },
    "colab": {
      "name": "Classification Provider Seluler.ipynb",
      "provenance": [],
      "collapsed_sections": []
    }
  },
  "cells": [
    {
      "cell_type": "code",
      "metadata": {
        "id": "w-CiCtGa5OnP"
      },
      "source": [
        "from tabulate import tabulate\n",
        "%matplotlib inline\n",
        "import matplotlib.pyplot as plt\n",
        "import itertools\n",
        "import seaborn as sns\n",
        "import pandas as pd\n",
        "import numpy as np\n",
        "from sklearn.model_selection import cross_val_score\n",
        "from sklearn import svm\n",
        "from sklearn.naive_bayes import GaussianNB\n",
        "from sklearn.linear_model import LogisticRegression\n",
        "from sklearn.neighbors import KNeighborsClassifier\n",
        "from sklearn.model_selection import cross_val_predict\n",
        "from sklearn.metrics import classification_report\n",
        "from sklearn.model_selection import KFold\n",
        "from sklearn.model_selection import GridSearchCV\n",
        "from sklearn.metrics import f1_score, precision_score, recall_score\n",
        "from sklearn.metrics import confusion_matrix"
      ],
      "execution_count": null,
      "outputs": []
    },
    {
      "cell_type": "code",
      "metadata": {
        "id": "tgtkxNXG5OnS"
      },
      "source": [
        "# ganti nama file dari hasil tahap normalisasi sebelumnya\n",
        "file = pd.read_csv('OUT_ALL_TELKOMSEL.csv', delimiter=',')"
      ],
      "execution_count": null,
      "outputs": []
    },
    {
      "cell_type": "code",
      "metadata": {
        "colab": {
          "base_uri": "https://localhost:8080/"
        },
        "id": "jwKu6KD05OnT",
        "outputId": "7b1d324a-6a63-46fd-edc2-a30b577ca9c0"
      },
      "source": [
        "len(file)"
      ],
      "execution_count": null,
      "outputs": [
        {
          "output_type": "execute_result",
          "data": {
            "text/plain": [
              "1740"
            ]
          },
          "metadata": {
            "tags": []
          },
          "execution_count": 178
        }
      ]
    },
    {
      "cell_type": "code",
      "metadata": {
        "id": "Mq2xi9hc5OnV"
      },
      "source": [
        "# ganti nama file_input dengan file .txt file asli dari hasil preprocessing\n",
        "file_input = \"telkomsel-labelled.txt\"\n",
        "file_txt = open(file_input, mode='r', encoding='utf-8')\n",
        "text = file_txt.readlines()"
      ],
      "execution_count": null,
      "outputs": []
    },
    {
      "cell_type": "code",
      "metadata": {
        "colab": {
          "base_uri": "https://localhost:8080/"
        },
        "id": "GcNKJHId5OnV",
        "outputId": "e2f83e30-a9ef-48bc-ea3c-a28d8975229c"
      },
      "source": [
        "len(text)"
      ],
      "execution_count": null,
      "outputs": [
        {
          "output_type": "execute_result",
          "data": {
            "text/plain": [
              "1073"
            ]
          },
          "metadata": {
            "tags": []
          },
          "execution_count": 180
        }
      ]
    },
    {
      "cell_type": "code",
      "metadata": {
        "colab": {
          "base_uri": "https://localhost:8080/"
        },
        "id": "Yvu7domF5OnW",
        "outputId": "b891eb28-0a17-4edc-e703-922ed4db04b7"
      },
      "source": [
        "file['tweet_id'].mode()[0]"
      ],
      "execution_count": null,
      "outputs": [
        {
          "output_type": "execute_result",
          "data": {
            "text/plain": [
              "937"
            ]
          },
          "metadata": {
            "tags": []
          },
          "execution_count": 181
        }
      ]
    },
    {
      "cell_type": "code",
      "metadata": {
        "colab": {
          "base_uri": "https://localhost:8080/"
        },
        "id": "VM5NyqYZ5OnX",
        "outputId": "a20c085d-271f-4165-ced8-b4416b06a562"
      },
      "source": [
        "# Code untuk mencari fitur POS\n",
        "list_feature = []\n",
        "\n",
        "for idx, t in enumerate(text):\n",
        "    selected = file[file['tweet_id'] == idx]\n",
        "    list_tweet = []\n",
        "    \n",
        "    if len(selected.index) > 0:\n",
        "        for a, tweet in selected.iterrows():\n",
        "            feature = float(tweet['normalize_weight'])\n",
        "            list_tweet.append(feature)\n",
        "            \n",
        "            \n",
        "        if len(selected.index) < pd.value_counts(file['tweet_id']).max():\n",
        "            b = len(selected.index)\n",
        "            while b < pd.value_counts(file['tweet_id']).max():\n",
        "                feature = float(0)\n",
        "                b += 1\n",
        "                list_tweet.append(feature)\n",
        "\n",
        "        \n",
        "    elif len(selected.index) == 0:\n",
        "        i = 0\n",
        "        while i < pd.value_counts(file['tweet_id']).max():\n",
        "            feature = float(0)\n",
        "            list_tweet.append(feature)\n",
        "            i += 1\n",
        "            \n",
        "    list_feature.append(list_tweet)\n",
        "    \n",
        "data = np.array(list_feature)\n",
        "#data = sparse.csr_matrix(sX)\n",
        "\n",
        "# format dimenasi yang didapat menggunakan fitur POS\n",
        "print(data)"
      ],
      "execution_count": null,
      "outputs": [
        {
          "output_type": "stream",
          "text": [
            "[[0.   0.   0.   ... 0.   0.   0.  ]\n",
            " [0.   0.   0.   ... 0.   0.   0.  ]\n",
            " [0.   0.   0.   ... 0.   0.   0.  ]\n",
            " ...\n",
            " [0.02 0.16 0.32 ... 0.   0.   0.  ]\n",
            " [0.17 0.25 0.25 ... 0.   0.   0.  ]\n",
            " [0.75 0.25 0.25 ... 0.   0.   0.  ]]\n"
          ],
          "name": "stdout"
        }
      ]
    },
    {
      "cell_type": "code",
      "metadata": {
        "id": "FUql1isO5OnY"
      },
      "source": [
        "# mencari label tweetnya dari file .txt hasil preprocessing\n",
        "lt = []\n",
        "\n",
        "for i,t in enumerate(text):\n",
        "    a = t.split(',')\n",
        "    label_y = a[1]\n",
        "    label_y = label_y.split('\\n')\n",
        "    lt.append(label_y[0])\n",
        "\n",
        "label_target = np.array(lt)\n",
        "# label_target = sparse.csr_matrix(sY.astype(float))"
      ],
      "execution_count": null,
      "outputs": []
    },
    {
      "cell_type": "code",
      "metadata": {
        "colab": {
          "base_uri": "https://localhost:8080/"
        },
        "id": "qkoLUUhw5OnY",
        "outputId": "f8967042-e568-428e-f98c-befa0affe572"
      },
      "source": [
        "cn = 0\n",
        "for i in label_target:\n",
        "    if i == '1':\n",
        "        cn += 1\n",
        "neg = len(label_target)-cn\n",
        "print('positif: ',cn)\n",
        "print('negatif: ', neg)"
      ],
      "execution_count": null,
      "outputs": [
        {
          "output_type": "stream",
          "text": [
            "positif:  324\n",
            "negatif:  749\n"
          ],
          "name": "stdout"
        }
      ]
    },
    {
      "cell_type": "code",
      "metadata": {
        "id": "i8jXSI7U5OnZ"
      },
      "source": [
        "with open('rank.csv', 'a') as rank:\n",
        "    # rank.writelines('provider,positif,negatif\\n')\n",
        "    rank.writelines('XL,'+str(cn)+',' + str(neg)+'\\n')"
      ],
      "execution_count": null,
      "outputs": []
    },
    {
      "cell_type": "code",
      "metadata": {
        "colab": {
          "base_uri": "https://localhost:8080/"
        },
        "id": "x1aedk9V5Ona",
        "outputId": "08a7330a-544f-4e24-fbb8-8c55e842a7db"
      },
      "source": [
        "# code untuk mencari TERM PRESENCE\n",
        "tp = []\n",
        "df = file.drop_duplicates(subset=['term'])\n",
        "\n",
        "print(len(df))\n",
        "print(pd.value_counts(file['tweet_id']).max())\n",
        "\n",
        "for j in text:\n",
        "    tt = []\n",
        "    tmp = j.split(',')\n",
        "    tmp = tmp[0].split()\n",
        "    for k in range(len(df['term'])):\n",
        "        dd = df.iloc[k]['term']\n",
        "        #print(dd)\n",
        "        if any(dd in s for s in tmp):\n",
        "            tt.append(float(1))\n",
        "        else:\n",
        "            tt.append(float(0))\n",
        "    \n",
        "    tp.append(tt)\n",
        "\n",
        "term_presence = np.array(tp)\n",
        "\n",
        "print(len(term_presence))\n",
        "print(term_presence)"
      ],
      "execution_count": null,
      "outputs": [
        {
          "output_type": "stream",
          "text": [
            "274\n",
            "7\n",
            "1073\n",
            "[[0. 0. 0. ... 0. 0. 0.]\n",
            " [0. 0. 0. ... 0. 0. 0.]\n",
            " [0. 0. 0. ... 0. 0. 0.]\n",
            " ...\n",
            " [0. 0. 0. ... 0. 0. 1.]\n",
            " [0. 0. 1. ... 0. 0. 0.]\n",
            " [0. 0. 0. ... 0. 0. 0.]]\n"
          ],
          "name": "stdout"
        }
      ]
    },
    {
      "cell_type": "code",
      "metadata": {
        "colab": {
          "base_uri": "https://localhost:8080/"
        },
        "id": "bEueQjmV5Ona",
        "outputId": "12c4d2a0-1979-48fe-817b-270ca0230008"
      },
      "source": [
        "# code untuk menggabungkan fitur TERM PRESENCE dan POS Tagging\n",
        "data_total = np.column_stack([data, term_presence])\n",
        "\n",
        "print(data_total.shape)\n",
        "print(data_total)"
      ],
      "execution_count": null,
      "outputs": [
        {
          "output_type": "stream",
          "text": [
            "(1073, 281)\n",
            "[[0.   0.   0.   ... 0.   0.   0.  ]\n",
            " [0.   0.   0.   ... 0.   0.   0.  ]\n",
            " [0.   0.   0.   ... 0.   0.   0.  ]\n",
            " ...\n",
            " [0.02 0.16 0.32 ... 0.   0.   1.  ]\n",
            " [0.17 0.25 0.25 ... 0.   0.   0.  ]\n",
            " [0.75 0.25 0.25 ... 0.   0.   0.  ]]\n"
          ],
          "name": "stdout"
        }
      ]
    },
    {
      "cell_type": "code",
      "metadata": {
        "id": "MrFxKbo05Onb"
      },
      "source": [
        "# fungsi untuk menampilkan confussion matrix pada hasil klasifikasi\n",
        "def plot_confusion_matrix(cm, classes,\n",
        "                          normalize=False,\n",
        "                          title='Confusion matrix',\n",
        "                          cmap=plt.cm.Blues):\n",
        "    \"\"\"\n",
        "    This function prints and plots the confusion matrix.\n",
        "    Normalization can be applied by setting `normalize=True`.\n",
        "    \"\"\"\n",
        "    #if normalize:\n",
        "    #    cm = cm.astype('float') / cm.sum(axis=1)[:, np.newaxis]\n",
        "    #    print(\"Normalized confusion matrix\")\n",
        "    #else:\n",
        "    #    print('Confusion matrix, without normalization')\n",
        "\n",
        "    #print(cm)\n",
        "\n",
        "    plt.imshow(cm, interpolation='nearest', cmap=cmap)\n",
        "    plt.title(title)\n",
        "    plt.colorbar()\n",
        "    tick_marks = np.arange(len(classes))\n",
        "    plt.xticks(tick_marks, classes, rotation=45)\n",
        "    plt.yticks(tick_marks, classes)\n",
        "\n",
        "    fmt = '.2f' if normalize else 'd'\n",
        "    thresh = cm.max() / 2.\n",
        "    for i, j in itertools.product(range(cm.shape[0]), range(cm.shape[1])):\n",
        "        plt.text(j, i, format(cm[i, j], fmt),\n",
        "                 horizontalalignment=\"center\",\n",
        "                 color=\"white\" if cm[i, j] > thresh else \"black\")\n",
        "\n",
        "    plt.tight_layout()\n",
        "    plt.ylabel('True label')\n",
        "    plt.xlabel('Predicted label')"
      ],
      "execution_count": null,
      "outputs": []
    },
    {
      "cell_type": "code",
      "metadata": {
        "scrolled": false,
        "colab": {
          "base_uri": "https://localhost:8080/",
          "height": 1000
        },
        "id": "_sL8Wkoq5Onb",
        "outputId": "0a8bc750-1264-4056-d9a1-075bb58812cf"
      },
      "source": [
        "# %%time\n",
        "# code untuk Intelligent Model Selection\n",
        "model_1 = svm.SVC(kernel='rbf')\n",
        "model_2 = LogisticRegression()\n",
        "model_3 = KNeighborsClassifier(n_neighbors=10)\n",
        "\n",
        "# tunning nilai K untuk membagi jumlah dataset menjadi traning, testing, \n",
        "# dan evaluasi\n",
        "skf = KFold(n_splits=5)\n",
        "target_names = ['Positif','Negatif']\n",
        "\n",
        "itter = 1\n",
        "ltt = []\n",
        "dtt = []\n",
        "best_model_tt = []\n",
        "label_best_model_tt = []\n",
        "evdtt = []\n",
        "evltt = []\n",
        "s = []\n",
        "r = []\n",
        "p = []\n",
        "f1 = []\n",
        "\n",
        "for train_test_index, validation_index in skf.split(data_total, label_target):\n",
        "    \n",
        "    ltt.clear()\n",
        "    dtt.clear()\n",
        "    evdtt.clear()\n",
        "    evltt.clear()\n",
        "    \n",
        "    # mencari label\n",
        "    #print(validation_index)\n",
        "    for i in train_test_index:\n",
        "        ltt.append(label_target[i])\n",
        "        dtt.append(data_total[i])\n",
        "        \n",
        "    label_testing_test = np.array(ltt)\n",
        "    data_testing_test = np.array(dtt)\n",
        "    \n",
        "    # find best model in second cross validation with 90% data\n",
        "    score2 = cross_val_score(model_3, data_testing_test, label_testing_test, cv=skf)\n",
        "    \n",
        "    #print all score from second CV\n",
        "    #print(\"this is score : \", score2)\n",
        "    \n",
        "    # find index best score from second cross validation\n",
        "    best_score_index = np.argmax(score2)\n",
        "    \n",
        "    #print best index model\n",
        "    #print(\"this is best model index : \",best_score_index)\n",
        "    \n",
        "    counter = 0\n",
        "    for f_index,g_index in skf.split(data_testing_test,label_testing_test):\n",
        "        if counter == best_score_index:\n",
        "            best_model_tt.clear()\n",
        "            label_best_model_tt.clear()\n",
        "            for c in f_index:\n",
        "                best_model_tt.append(data_testing_test[c])\n",
        "                label_best_model_tt.append(label_testing_test[c])       \n",
        "            best_model = np.array(best_model_tt)    \n",
        "            best_model_label = np.array(label_best_model_tt)\n",
        "            break\n",
        "        counter += 1 \n",
        "    \n",
        "    # save evaluation test\n",
        "    for j in validation_index:\n",
        "        evltt.append(label_target[j])\n",
        "        evdtt.append(data_total[j])\n",
        "    \n",
        "    evaluation_datatest = np.array(evdtt)\n",
        "    evaluation_label_datatest = np.array(evltt)\n",
        "    \n",
        "    # fit BEST model with evaluation\n",
        "    model_3.fit(best_model, best_model_label)    \n",
        "    \n",
        "    #print final accuracy (done with evalution set)\n",
        "    print(\"Best Final Accuracy on %0.0f CV: %0.3f\" % (itter, model_3.score(evaluation_datatest, evaluation_label_datatest)))\n",
        "    itter += 1\n",
        "    \n",
        "    y_predic = model_3.predict(evaluation_datatest)\n",
        "    # print(y_predic)\n",
        "    # print(target_names)\n",
        "    # print(evaluation_label_datatest)\n",
        "    \n",
        "    print(classification_report(evaluation_label_datatest, y_predic, target_names=target_names))\n",
        "    # print(confusion_matrix(evaluation_label_datatest, y_predic))\n",
        "    \n",
        "    # menghitung confusion matrix\n",
        "    cnf_matrix = confusion_matrix(evaluation_label_datatest, y_predic)\n",
        "    np.set_printoptions(precision=2)\n",
        "\n",
        "    # menampilkan Plot non-normalized confusion matrix\n",
        "    plt.figure()\n",
        "    plot_confusion_matrix(cnf_matrix, classes=target_names,title='Confusion matrix, without normalization')\n",
        "    plt.show()\n",
        "    \n",
        "    # menyimpan hasil score , precision, recall, f1-score pada setiap iterasi\n",
        "    s.append(model_3.score(evaluation_datatest, evaluation_label_datatest))\n",
        "    p.append(precision_score(evaluation_label_datatest, y_predic, pos_label='1'))\n",
        "    r.append(recall_score(evaluation_label_datatest, y_predic, pos_label='1'))\n",
        "    f1.append(f1_score(evaluation_label_datatest, y_predic, pos_label='1'))\n",
        "    \n",
        "save_accuracy_np = np.array(s)\n",
        "#print(\"acc : \",save_accuracy_np)\n",
        "\n",
        "save_recall_np = np.array(r)\n",
        "#print(\"recall : \" ,save_recall_np)\n",
        "\n",
        "save_precision_np = np.array(p)\n",
        "#print(\"precision : \", save_precision_np)\n",
        "\n",
        "save_f1_np = np.array(f1)\n",
        "#print(\"f1 : \" , save_f1_np)"
      ],
      "execution_count": null,
      "outputs": [
        {
          "output_type": "stream",
          "text": [
            "Best Final Accuracy on 1 CV: 0.633\n",
            "              precision    recall  f1-score   support\n",
            "\n",
            "     Positif       0.32      0.68      0.43        44\n",
            "     Negatif       0.88      0.62      0.73       171\n",
            "\n",
            "    accuracy                           0.63       215\n",
            "   macro avg       0.60      0.65      0.58       215\n",
            "weighted avg       0.77      0.63      0.67       215\n",
            "\n"
          ],
          "name": "stdout"
        },
        {
          "output_type": "display_data",
          "data": {
            "image/png": "[encoded data removed]",
            "text/plain": [
              "<Figure size 432x288 with 2 Axes>"
            ]
          },
          "metadata": {
            "tags": [],
            "needs_background": "light"
          }
        },
        {
          "output_type": "stream",
          "text": [
            "Best Final Accuracy on 2 CV: 0.805\n",
            "              precision    recall  f1-score   support\n",
            "\n",
            "     Positif       0.91      0.83      0.87       168\n",
            "     Negatif       0.54      0.70      0.61        47\n",
            "\n",
            "    accuracy                           0.80       215\n",
            "   macro avg       0.73      0.77      0.74       215\n",
            "weighted avg       0.83      0.80      0.81       215\n",
            "\n"
          ],
          "name": "stdout"
        },
        {
          "output_type": "display_data",
          "data": {
            "image/png": "[encoded data removed]",
            "text/plain": [
              "<Figure size 432x288 with 2 Axes>"
            ]
          },
          "metadata": {
            "tags": [],
            "needs_background": "light"
          }
        },
        {
          "output_type": "stream",
          "text": [
            "Best Final Accuracy on 3 CV: 0.716\n",
            "              precision    recall  f1-score   support\n",
            "\n",
            "     Positif       0.89      0.77      0.82       186\n",
            "     Negatif       0.20      0.38      0.27        29\n",
            "\n",
            "    accuracy                           0.72       215\n",
            "   macro avg       0.55      0.57      0.54       215\n",
            "weighted avg       0.80      0.72      0.75       215\n",
            "\n"
          ],
          "name": "stdout"
        },
        {
          "output_type": "display_data",
          "data": {
            "image/png": "[encoded data removed]",
            "text/plain": [
              "<Figure size 432x288 with 2 Axes>"
            ]
          },
          "metadata": {
            "tags": [],
            "needs_background": "light"
          }
        },
        {
          "output_type": "stream",
          "text": [
            "Best Final Accuracy on 4 CV: 0.790\n",
            "              precision    recall  f1-score   support\n",
            "\n",
            "     Positif       0.83      0.92      0.87       170\n",
            "     Negatif       0.48      0.27      0.35        44\n",
            "\n",
            "    accuracy                           0.79       214\n",
            "   macro avg       0.66      0.60      0.61       214\n",
            "weighted avg       0.76      0.79      0.77       214\n",
            "\n"
          ],
          "name": "stdout"
        },
        {
          "output_type": "display_data",
          "data": {
            "image/png": "[encoded data removed]",
            "text/plain": [
              "<Figure size 432x288 with 2 Axes>"
            ]
          },
          "metadata": {
            "tags": [],
            "needs_background": "light"
          }
        },
        {
          "output_type": "stream",
          "text": [
            "Best Final Accuracy on 5 CV: 0.729\n",
            "              precision    recall  f1-score   support\n",
            "\n",
            "     Positif       0.88      0.79      0.83       181\n",
            "     Negatif       0.25      0.39      0.31        33\n",
            "\n",
            "    accuracy                           0.73       214\n",
            "   macro avg       0.57      0.59      0.57       214\n",
            "weighted avg       0.78      0.73      0.75       214\n",
            "\n"
          ],
          "name": "stdout"
        },
        {
          "output_type": "display_data",
          "data": {
            "image/png": "[encoded data removed]",
            "text/plain": [
              "<Figure size 432x288 with 2 Axes>"
            ]
          },
          "metadata": {
            "tags": [],
            "needs_background": "light"
          }
        }
      ]
    },
    {
      "cell_type": "code",
      "metadata": {
        "id": "idN523405Ond",
        "colab": {
          "base_uri": "https://localhost:8080/"
        },
        "outputId": "bd8716e7-3210-4e00-91db-c25603385824"
      },
      "source": [
        "print(\"Accuracy: %0.3f (+/- %0.3f)\" % (np.average(save_accuracy_np), np.std(save_accuracy_np)*2)) \n",
        "print(\"Precision: %0.3f\" % (np.average(save_precision_np))) \n",
        "print(\"Recall: %0.3f\" % (np.average(save_recall_np))) \n",
        "print(\"f1 score: %0.3f\" % (np.average(save_f1_np)))"
      ],
      "execution_count": null,
      "outputs": [
        {
          "output_type": "stream",
          "text": [
            "Accuracy: 0.734 (+/- 0.122)\n",
            "Precision: 0.473\n",
            "Recall: 0.474\n",
            "f1 score: 0.452\n"
          ],
          "name": "stdout"
        }
      ]
    },
    {
      "cell_type": "code",
      "metadata": {
        "id": "RFDwme3T5Ond"
      },
      "source": [
        "# cross validation normal tanpa IMS\n",
        "# target_names = ['negatif', 'positif']\n",
        "# clf = svm.SVC(kernel='linear')\n",
        "# skf = KFold(n_splits=6)\n",
        "# scores = cross_val_score(clf, data_total, label_target, cv=skf)\n",
        "# predicted = cross_val_predict(clf, data_total, label_target, cv=skf)\n",
        "\n",
        "# print(\"Accuracy: %0.3f (+/- %0.3f)\" % (scores.mean(), scores.std()*2))\n",
        "\n",
        "# print(classification_report(label_target, predicted, target_names=target_names))"
      ],
      "execution_count": null,
      "outputs": []
    },
    {
      "cell_type": "code",
      "metadata": {
        "id": "OjJiMLAX5Ond"
      },
      "source": [
        "# plt.figure(figsize=(12, 6))\n",
        "# sns.barplot(x=[\"IMS\", \"normal CV\"], y=[np.average(save_accuracy_np), scores.mean()])"
      ],
      "execution_count": null,
      "outputs": []
    }
  ]
}